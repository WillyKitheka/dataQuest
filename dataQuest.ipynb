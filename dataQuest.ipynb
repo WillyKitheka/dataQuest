{
 "cells": [
  {
   "cell_type": "code",
   "execution_count": 18,
   "metadata": {},
   "outputs": [],
   "source": [
    "import requests"
   ]
  },
  {
   "cell_type": "code",
   "execution_count": 19,
   "metadata": {},
   "outputs": [],
   "source": [
    "standings_url = \"https://fbref.com/en/comps/9/Premier-League_Stats\""
   ]
  },
  {
   "cell_type": "code",
   "execution_count": 20,
   "metadata": {},
   "outputs": [],
   "source": [
    "data = requests.get(standings_url)"
   ]
  },
  {
   "cell_type": "code",
   "execution_count": 21,
   "metadata": {},
   "outputs": [],
   "source": [
    "from bs4 import BeautifulSoup"
   ]
  },
  {
   "cell_type": "code",
   "execution_count": 22,
   "metadata": {},
   "outputs": [],
   "source": [
    "soup = BeautifulSoup(data.text)"
   ]
  },
  {
   "cell_type": "code",
   "execution_count": 23,
   "metadata": {},
   "outputs": [],
   "source": [
    "standings_table = soup.select('table.stats_table')[0]"
   ]
  },
  {
   "cell_type": "code",
   "execution_count": 24,
   "metadata": {},
   "outputs": [
    {
     "data": {
      "text/plain": [
       "<table class=\"stats_table sortable min_width\" data-cols-to-freeze=\",2\" id=\"results2022-202391_overall\"> <caption>League Table Table</caption> <colgroup><col/><col/><col/><col/><col/><col/><col/><col/><col/><col/><col/><col/><col/><col/><col/><col/><col/><col/><col/><col/></colgroup> <thead> <tr> <th aria-label=\"Rank\" class=\"poptip center\" data-stat=\"rank\" data-tip=\"Squad finish in competition&lt;br&gt;Finish within the league or competition.&lt;br&gt;For knockout competitions may show final round reached.&lt;br&gt;Colors and arrows represent promotion/relegation or qualifiation for continental cups.&lt;br&gt;Trophy indicates team won league whether by playoffs or by leading the table.&lt;br&gt;Star indicates topped table in league USING another means of naming champion.\" scope=\"col\">Rk</th> <th aria-label=\"Squad\" class=\"poptip center\" data-stat=\"team\" scope=\"col\">Squad</th> <th aria-label=\"Matches Played\" class=\"poptip center\" data-stat=\"games\" data-tip=\"Matches Played by the player or squad\" scope=\"col\">MP</th> <th aria-label=\"Wins\" class=\"poptip center\" data-stat=\"wins\" data-tip=\"Wins\" scope=\"col\">W</th> <th aria-label=\"Draws\" class=\"poptip center\" data-stat=\"ties\" data-tip=\"Draws\" scope=\"col\">D</th> <th aria-label=\"Losses\" class=\"poptip center\" data-stat=\"losses\" data-tip=\"Losses\" scope=\"col\">L</th> <th aria-label=\"Goals For\" class=\"poptip center\" data-stat=\"goals_for\" data-tip=\"Goals For\" scope=\"col\">GF</th> <th aria-label=\"Goals Against\" class=\"poptip center\" data-stat=\"goals_against\" data-tip=\"Goals Against\" scope=\"col\">GA</th> <th aria-label=\"Goal Difference\" class=\"poptip center\" data-stat=\"goal_diff\" data-tip=\"Goal Difference\" scope=\"col\">GD</th> <th aria-label=\"Points\" class=\"poptip center\" data-stat=\"points\" data-tip=\"Most leagues are ordered by points.&lt;br&gt;Three for a win and one for a draw.\" scope=\"col\">Pts</th> <th aria-label=\"Points/Game\" class=\"poptip center\" data-stat=\"points_avg\" data-tip=\"Points per Match Played\" scope=\"col\">Pts/MP</th> <th aria-label=\"xG\" class=\"poptip center\" data-filter=\"1\" data-name=\"xG\" data-stat=\"xg_for\" data-tip=\"&lt;strong&gt;Expected Goals&lt;/strong&gt;&lt;br&gt;xG totals include penalty kicks, but do not include penalty shootouts (unless otherwise noted).&lt;br&gt;Provided by StatsBomb.&lt;br&gt;An underline indicates there is a match that is missing data, but will be updated when available.\" scope=\"col\">xG</th> <th aria-label=\"xG Allowed\" class=\"poptip center\" data-stat=\"xg_against\" data-tip=\"&lt;strong&gt;Expected Goals Allowed&lt;/strong&gt;&lt;br&gt;xG totals include penalty kicks, but do not include penalty shootouts (unless otherwise noted).&lt;br&gt;Provided by StatsBomb.&lt;br&gt;An underline indicates there is a match that is missing data, but will be updated when available.\" scope=\"col\">xGA</th> <th aria-label=\"xG Difference\" class=\"poptip center\" data-filter=\"1\" data-name=\"xG Difference\" data-stat=\"xg_diff\" data-tip=\"&lt;strong&gt;Expected Goals Difference&lt;/strong&gt;&lt;br&gt;xG totals include penalty kicks, but do not include penalty shootouts (unless otherwise noted).&lt;br&gt;Provided by StatsBomb.&lt;br&gt;An underline indicates there is a match that is missing data, but will be updated when available.\" scope=\"col\">xGD</th> <th aria-label=\"xG Difference/90\" class=\"poptip hide_non_quals center\" data-stat=\"xg_diff_per90\" data-tip=\"&lt;strong&gt;Expected Goals Difference per 90 Minutes&lt;/strong&gt;&lt;br&gt;xG totals include penalty kicks, but do not include penalty shootouts (unless otherwise noted).&lt;br&gt;Provided by StatsBomb.&lt;br&gt;An underline indicates there is a match that is missing data, but will be updated when available.\" scope=\"col\">xGD/90</th> <th aria-label=\"Last 5\" class=\"poptip center\" data-stat=\"last_5\" data-tip=\"Last Five Matches&lt;br&gt;Matches are ordered chronologically from left-to-right\" scope=\"col\">Last 5</th> <th aria-label=\"Attendance/Game\" class=\"poptip center\" data-stat=\"attendance_per_g\" data-tip=\"Attendance per game during this season, only for home matches\" scope=\"col\">Attendance</th> <th aria-label=\"Top Team Scorer\" class=\"poptip center\" data-stat=\"top_team_scorers\" data-tip=\"Only includes league matches for that season\" scope=\"col\">Top Team Scorer</th> <th aria-label=\"Goalkeeper\" class=\"poptip center\" data-stat=\"top_keeper\" data-tip=\"Goalkeeper with the most minutes in league play\" scope=\"col\">Goalkeeper</th> <th aria-label=\"Notes\" class=\"poptip center\" data-stat=\"notes\" scope=\"col\">Notes</th> </tr> </thead> <tbody> <tr><th class=\"right qualifier1\" csk=\"1\" data-stat=\"rank\" scope=\"row\">1</th><td class=\"left\" data-stat=\"team\"><img alt=\"Club Crest\" height=\"13\" itemscope=\"image\" src=\"https://d2p3bygnnzw9w3.cloudfront.net/req/202208193/tlogo/fb/mini.18bb7c10.png\" style=\"vertical-align:text-top\" width=\"13\"/> <a href=\"/en/squads/18bb7c10/Arsenal-Stats\">Arsenal</a></td><td class=\"right\" data-stat=\"games\">4</td><td class=\"right\" data-stat=\"wins\">4</td><td class=\"right iz\" data-stat=\"ties\">0</td><td class=\"right iz\" data-stat=\"losses\">0</td><td class=\"right\" data-stat=\"goals_for\">11</td><td class=\"right\" data-stat=\"goals_against\">3</td><td class=\"right\" data-stat=\"goal_diff\">+8</td><td class=\"right\" data-stat=\"points\">12</td><td class=\"right\" data-stat=\"points_avg\">3.00</td><td class=\"right\" data-stat=\"xg_for\">7.8</td><td class=\"right\" data-stat=\"xg_against\">2.9</td><td class=\"right\" data-stat=\"xg_diff\">+4.8</td><td class=\"right\" data-stat=\"xg_diff_per90\">+1.21</td><td class=\"left\" csk=\"12\" data-stat=\"last_5\"><div style=\"display:inline-block\"><div class=\"poptip\" style=\"display:inline-block; border-radius:2px; background-color:green; width:15px; text-align:center\" tip=\"&lt;strong&gt;August 5, 2022&lt;/strong&gt;&lt;br&gt;Crystal Palace 0–2 Arsenal\"><a href=\"/en/matches/e62f6e78/Crystal-Palace-Arsenal-August-5-2022-Premier-League\" style=\"color:#fff; text-decoration:none; background-color: transparent\">W</a></div> <div class=\"poptip\" style=\"display:inline-block; border-radius:2px; background-color:green; width:15px; text-align:center\" tip=\"&lt;strong&gt;August 13, 2022&lt;/strong&gt;&lt;br&gt;Arsenal 4–2 Leicester City\"><a href=\"/en/matches/7483b97f/Arsenal-Leicester-City-August-13-2022-Premier-League\" style=\"color:#fff; text-decoration:none; background-color: transparent\">W</a></div> <div class=\"poptip\" style=\"display:inline-block; border-radius:2px; background-color:green; width:15px; text-align:center\" tip=\"&lt;strong&gt;August 20, 2022&lt;/strong&gt;&lt;br&gt;Bournemouth 0–3 Arsenal\"><a href=\"/en/matches/7f11dd9e/Bournemouth-Arsenal-August-20-2022-Premier-League\" style=\"color:#fff; text-decoration:none; background-color: transparent\">W</a></div> <div class=\"poptip\" style=\"display:inline-block; border-radius:2px; background-color:green; width:15px; text-align:center\" tip=\"&lt;strong&gt;August 27, 2022&lt;/strong&gt;&lt;br&gt;Arsenal 2–1 Fulham\"><a href=\"/en/matches/8b69fd2d/Arsenal-Fulham-August-27-2022-Premier-League\" style=\"color:#fff; text-decoration:none; background-color: transparent\">W</a></div></div></td><td class=\"right\" csk=\"60099\" data-stat=\"attendance_per_g\">60,099</td><td class=\"right\" csk=\"3\" data-stat=\"top_team_scorers\"><a href=\"/en/players/79300479/Martin-Odegaard\">Martin Ødegaard</a> - <span>3</span></td><td class=\"right\" data-stat=\"top_keeper\"><a href=\"/en/players/466fb2c5/Aaron-Ramsdale\">Aaron Ramsdale</a></td><td class=\"left iz\" data-stat=\"notes\"></td></tr> <tr><th class=\"right qualifier1\" csk=\"2\" data-stat=\"rank\" scope=\"row\">2</th><td class=\"left\" data-stat=\"team\"><img alt=\"Club Crest\" height=\"13\" itemscope=\"image\" src=\"https://d2p3bygnnzw9w3.cloudfront.net/req/202208193/tlogo/fb/mini.b8fd03ef.png\" style=\"vertical-align:text-top\" width=\"13\"/> <a href=\"/en/squads/b8fd03ef/Manchester-City-Stats\">Manchester City</a></td><td class=\"right\" data-stat=\"games\">4</td><td class=\"right\" data-stat=\"wins\">3</td><td class=\"right\" data-stat=\"ties\">1</td><td class=\"right iz\" data-stat=\"losses\">0</td><td class=\"right\" data-stat=\"goals_for\">13</td><td class=\"right\" data-stat=\"goals_against\">5</td><td class=\"right\" data-stat=\"goal_diff\">+8</td><td class=\"right\" data-stat=\"points\">10</td><td class=\"right\" data-stat=\"points_avg\">2.50</td><td class=\"right\" data-stat=\"xg_for\">9.1</td><td class=\"right\" data-stat=\"xg_against\">2.4</td><td class=\"right\" data-stat=\"xg_diff\">+6.7</td><td class=\"right\" data-stat=\"xg_diff_per90\">+1.68</td><td class=\"left\" csk=\"10\" data-stat=\"last_5\"><div style=\"display:inline-block\"><div class=\"poptip\" style=\"display:inline-block; border-radius:2px; background-color:green; width:15px; text-align:center\" tip=\"&lt;strong&gt;August 7, 2022&lt;/strong&gt;&lt;br&gt;West Ham 0–2 Manchester City\"><a href=\"/en/matches/ece62baf/West-Ham-United-Manchester-City-August-7-2022-Premier-League\" style=\"color:#fff; text-decoration:none; background-color: transparent\">W</a></div> <div class=\"poptip\" style=\"display:inline-block; border-radius:2px; background-color:green; width:15px; text-align:center\" tip=\"&lt;strong&gt;August 13, 2022&lt;/strong&gt;&lt;br&gt;Manchester City 4–0 Bournemouth\"><a href=\"/en/matches/311d705c/Manchester-City-Bournemouth-August-13-2022-Premier-League\" style=\"color:#fff; text-decoration:none; background-color: transparent\">W</a></div> <div class=\"poptip\" style=\"display:inline-block; border-radius:2px; background-color:#888; width:15px; text-align:center\" tip=\"&lt;strong&gt;August 21, 2022&lt;/strong&gt;&lt;br&gt;Newcastle Utd 3–3 Manchester City\"><a href=\"/en/matches/b513d9fe/Newcastle-United-Manchester-City-August-21-2022-Premier-League\" style=\"color:#fff; text-decoration:none; background-color: transparent\">D</a></div> <div class=\"poptip\" style=\"display:inline-block; border-radius:2px; background-color:green; width:15px; text-align:center\" tip=\"&lt;strong&gt;August 27, 2022&lt;/strong&gt;&lt;br&gt;Manchester City 4–2 Crystal Palace\"><a href=\"/en/matches/3b9bbac7/Manchester-City-Crystal-Palace-August-27-2022-Premier-League\" style=\"color:#fff; text-decoration:none; background-color: transparent\">W</a></div></div></td><td class=\"right\" csk=\"53283\" data-stat=\"attendance_per_g\">53,283</td><td class=\"right\" csk=\"6\" data-stat=\"top_team_scorers\"><a href=\"/en/players/1f44ac21/Erling-Haaland\">Erling Haaland</a> - <span>6</span></td><td class=\"right\" data-stat=\"top_keeper\"><a href=\"/en/players/3bb7b8b4/Ederson\">Ederson</a></td><td class=\"left iz\" data-stat=\"notes\"></td></tr> <tr><th class=\"right qualifier1\" csk=\"3\" data-stat=\"rank\" scope=\"row\">3</th><td class=\"left\" data-stat=\"team\"><img alt=\"Club Crest\" height=\"13\" itemscope=\"image\" src=\"https://d2p3bygnnzw9w3.cloudfront.net/req/202208193/tlogo/fb/mini.361ca564.png\" style=\"vertical-align:text-top\" width=\"13\"/> <a href=\"/en/squads/361ca564/Tottenham-Hotspur-Stats\">Tottenham</a></td><td class=\"right\" data-stat=\"games\">4</td><td class=\"right\" data-stat=\"wins\">3</td><td class=\"right\" data-stat=\"ties\">1</td><td class=\"right iz\" data-stat=\"losses\">0</td><td class=\"right\" data-stat=\"goals_for\">9</td><td class=\"right\" data-stat=\"goals_against\">3</td><td class=\"right\" data-stat=\"goal_diff\">+6</td><td class=\"right\" data-stat=\"points\">10</td><td class=\"right\" data-stat=\"points_avg\">2.50</td><td class=\"right\" data-stat=\"xg_for\">6.9</td><td class=\"right\" data-stat=\"xg_against\">3.8</td><td class=\"right\" data-stat=\"xg_diff\">+3.1</td><td class=\"right\" data-stat=\"xg_diff_per90\">+0.78</td><td class=\"left\" csk=\"10\" data-stat=\"last_5\"><div style=\"display:inline-block\"><div class=\"poptip\" style=\"display:inline-block; border-radius:2px; background-color:green; width:15px; text-align:center\" tip=\"&lt;strong&gt;August 6, 2022&lt;/strong&gt;&lt;br&gt;Tottenham 4–1 Southampton\"><a href=\"/en/matches/09d8a999/Tottenham-Hotspur-Southampton-August-6-2022-Premier-League\" style=\"color:#fff; text-decoration:none; background-color: transparent\">W</a></div> <div class=\"poptip\" style=\"display:inline-block; border-radius:2px; background-color:#888; width:15px; text-align:center\" tip=\"&lt;strong&gt;August 14, 2022&lt;/strong&gt;&lt;br&gt;Chelsea 2–2 Tottenham\"><a href=\"/en/matches/01e57bf5/Chelsea-Tottenham-Hotspur-August-14-2022-Premier-League\" style=\"color:#fff; text-decoration:none; background-color: transparent\">D</a></div> <div class=\"poptip\" style=\"display:inline-block; border-radius:2px; background-color:green; width:15px; text-align:center\" tip=\"&lt;strong&gt;August 20, 2022&lt;/strong&gt;&lt;br&gt;Tottenham 1–0 Wolves\"><a href=\"/en/matches/5cc3bd0e/Tottenham-Hotspur-Wolverhampton-Wanderers-August-20-2022-Premier-League\" style=\"color:#fff; text-decoration:none; background-color: transparent\">W</a></div> <div class=\"poptip\" style=\"display:inline-block; border-radius:2px; background-color:green; width:15px; text-align:center\" tip=\"&lt;strong&gt;August 28, 2022&lt;/strong&gt;&lt;br&gt;Nott'ham Forest 0–2 Tottenham\"><a href=\"/en/matches/3c364307/Nottingham-Forest-Tottenham-Hotspur-August-28-2022-Premier-League\" style=\"color:#fff; text-decoration:none; background-color: transparent\">W</a></div></div></td><td class=\"right\" csk=\"61515\" data-stat=\"attendance_per_g\">61,515</td><td class=\"right\" csk=\"4\" data-stat=\"top_team_scorers\"><a href=\"/en/players/21a66f6a/Harry-Kane\">Harry Kane</a> - <span>4</span></td><td class=\"right\" data-stat=\"top_keeper\"><a href=\"/en/players/8f62b6ee/Hugo-Lloris\">Hugo Lloris</a></td><td class=\"left iz\" data-stat=\"notes\"></td></tr> <tr><th class=\"right qualifier1\" csk=\"4\" data-stat=\"rank\" scope=\"row\">4</th><td class=\"left\" data-stat=\"team\"><img alt=\"Club Crest\" height=\"13\" itemscope=\"image\" src=\"https://d2p3bygnnzw9w3.cloudfront.net/req/202208193/tlogo/fb/mini.d07537b9.png\" style=\"vertical-align:text-top\" width=\"13\"/> <a href=\"/en/squads/d07537b9/Brighton-and-Hove-Albion-Stats\">Brighton</a></td><td class=\"right\" data-stat=\"games\">5</td><td class=\"right\" data-stat=\"wins\">3</td><td class=\"right\" data-stat=\"ties\">1</td><td class=\"right\" data-stat=\"losses\">1</td><td class=\"right\" data-stat=\"goals_for\">6</td><td class=\"right\" data-stat=\"goals_against\">3</td><td class=\"right\" data-stat=\"goal_diff\">+3</td><td class=\"right\" data-stat=\"points\">10</td><td class=\"right\" data-stat=\"points_avg\">2.00</td><td class=\"right incomplete\" data-stat=\"xg_for\">6.1</td><td class=\"right incomplete\" data-stat=\"xg_against\">4.0</td><td class=\"right incomplete\" data-stat=\"xg_diff\">+2.1</td><td class=\"right incomplete\" data-stat=\"xg_diff_per90\">+0.53</td><td class=\"left\" csk=\"10\" data-stat=\"last_5\"><div style=\"display:inline-block\"><div class=\"poptip\" style=\"display:inline-block; border-radius:2px; background-color:green; width:15px; text-align:center\" tip=\"&lt;strong&gt;August 7, 2022&lt;/strong&gt;&lt;br&gt;Manchester Utd 1–2 Brighton\"><a href=\"/en/matches/8251694e/Manchester-United-Brighton-and-Hove-Albion-August-7-2022-Premier-League\" style=\"color:#fff; text-decoration:none; background-color: transparent\">W</a></div> <div class=\"poptip\" style=\"display:inline-block; border-radius:2px; background-color:#888; width:15px; text-align:center\" tip=\"&lt;strong&gt;August 13, 2022&lt;/strong&gt;&lt;br&gt;Brighton 0–0 Newcastle Utd\"><a href=\"/en/matches/c916a5f6/Brighton-and-Hove-Albion-Newcastle-United-August-13-2022-Premier-League\" style=\"color:#fff; text-decoration:none; background-color: transparent\">D</a></div> <div class=\"poptip\" style=\"display:inline-block; border-radius:2px; background-color:green; width:15px; text-align:center\" tip=\"&lt;strong&gt;August 21, 2022&lt;/strong&gt;&lt;br&gt;West Ham 0–2 Brighton\"><a href=\"/en/matches/aa2a3517/West-Ham-United-Brighton-and-Hove-Albion-August-21-2022-Premier-League\" style=\"color:#fff; text-decoration:none; background-color: transparent\">W</a></div> <div class=\"poptip\" style=\"display:inline-block; border-radius:2px; background-color:green; width:15px; text-align:center\" tip=\"&lt;strong&gt;August 27, 2022&lt;/strong&gt;&lt;br&gt;Brighton 1–0 Leeds United\"><a href=\"/en/matches/77c70160/Brighton-and-Hove-Albion-Leeds-United-August-27-2022-Premier-League\" style=\"color:#fff; text-decoration:none; background-color: transparent\">W</a></div> <div class=\"poptip\" style=\"display:inline-block; border-radius:2px; background-color:#e60000; width:15px; text-align:center\" tip=\"&lt;strong&gt;August 30, 2022&lt;/strong&gt;&lt;br&gt;Fulham 2–1 Brighton\"><a href=\"/en/matches/361f4461/Fulham-Brighton-and-Hove-Albion-August-30-2022-Premier-League\" style=\"color:#fff; text-decoration:none; background-color: transparent\">L</a></div></div></td><td class=\"right\" csk=\"31253\" data-stat=\"attendance_per_g\">31,253</td><td class=\"right\" csk=\"3\" data-stat=\"top_team_scorers\"><a href=\"/en/players/8aec0537/Pascal-Gross\">Pascal Groß</a> - <span>3</span></td><td class=\"right\" data-stat=\"top_keeper\"><a href=\"/en/players/6a713852/Robert-Sanchez\">Robert Sánchez</a></td><td class=\"left iz\" data-stat=\"notes\"></td></tr> <tr><th class=\"right qualifier2\" csk=\"5\" data-stat=\"rank\" scope=\"row\">5</th><td class=\"left\" data-stat=\"team\"><img alt=\"Club Crest\" height=\"13\" itemscope=\"image\" src=\"https://d2p3bygnnzw9w3.cloudfront.net/req/202208193/tlogo/fb/mini.5bfb9659.png\" style=\"vertical-align:text-top\" width=\"13\"/> <a href=\"/en/squads/5bfb9659/Leeds-United-Stats\">Leeds United</a></td><td class=\"right\" data-stat=\"games\">5</td><td class=\"right\" data-stat=\"wins\">2</td><td class=\"right\" data-stat=\"ties\">2</td><td class=\"right\" data-stat=\"losses\">1</td><td class=\"right\" data-stat=\"goals_for\">8</td><td class=\"right\" data-stat=\"goals_against\">5</td><td class=\"right\" data-stat=\"goal_diff\">+3</td><td class=\"right\" data-stat=\"points\">8</td><td class=\"right\" data-stat=\"points_avg\">1.60</td><td class=\"right incomplete\" data-stat=\"xg_for\">6.0</td><td class=\"right incomplete\" data-stat=\"xg_against\">4.9</td><td class=\"right incomplete\" data-stat=\"xg_diff\">+1.1</td><td class=\"right incomplete\" data-stat=\"xg_diff_per90\">+0.27</td><td class=\"left\" csk=\"8\" data-stat=\"last_5\"><div style=\"display:inline-block\"><div class=\"poptip\" style=\"display:inline-block; border-radius:2px; background-color:green; width:15px; text-align:center\" tip=\"&lt;strong&gt;August 6, 2022&lt;/strong&gt;&lt;br&gt;Leeds United 2–1 Wolves\"><a href=\"/en/matches/82702941/Leeds-United-Wolverhampton-Wanderers-August-6-2022-Premier-League\" style=\"color:#fff; text-decoration:none; background-color: transparent\">W</a></div> <div class=\"poptip\" style=\"display:inline-block; border-radius:2px; background-color:#888; width:15px; text-align:center\" tip=\"&lt;strong&gt;August 13, 2022&lt;/strong&gt;&lt;br&gt;Southampton 2–2 Leeds United\"><a href=\"/en/matches/54b33a13/Southampton-Leeds-United-August-13-2022-Premier-League\" style=\"color:#fff; text-decoration:none; background-color: transparent\">D</a></div> <div class=\"poptip\" style=\"display:inline-block; border-radius:2px; background-color:green; width:15px; text-align:center\" tip=\"&lt;strong&gt;August 21, 2022&lt;/strong&gt;&lt;br&gt;Leeds United 3–0 Chelsea\"><a href=\"/en/matches/a5632124/Leeds-United-Chelsea-August-21-2022-Premier-League\" style=\"color:#fff; text-decoration:none; background-color: transparent\">W</a></div> <div class=\"poptip\" style=\"display:inline-block; border-radius:2px; background-color:#e60000; width:15px; text-align:center\" tip=\"&lt;strong&gt;August 27, 2022&lt;/strong&gt;&lt;br&gt;Brighton 1–0 Leeds United\"><a href=\"/en/matches/77c70160/Brighton-and-Hove-Albion-Leeds-United-August-27-2022-Premier-League\" style=\"color:#fff; text-decoration:none; background-color: transparent\">L</a></div> <div class=\"poptip\" style=\"display:inline-block; border-radius:2px; background-color:#888; width:15px; text-align:center\" tip=\"&lt;strong&gt;August 30, 2022&lt;/strong&gt;&lt;br&gt;Leeds United 1–1 Everton\"><a href=\"/en/matches/42d294e5/Leeds-United-Everton-August-30-2022-Premier-League\" style=\"color:#fff; text-decoration:none; background-color: transparent\">D</a></div></div></td><td class=\"right\" csk=\"36352\" data-stat=\"attendance_per_g\">36,352</td><td class=\"right\" csk=\"4\" data-stat=\"top_team_scorers\"><a href=\"/en/players/1fb1c435/Rodrigo\">Rodrigo</a> - <span>4</span></td><td class=\"right\" data-stat=\"top_keeper\"><a href=\"/en/players/6b625ac2/Illan-Meslier\">Illan Meslier</a></td><td class=\"left iz\" data-stat=\"notes\"></td></tr> <tr><th class=\"right\" csk=\"6\" data-stat=\"rank\" scope=\"row\">6</th><td class=\"left\" data-stat=\"team\"><img alt=\"Club Crest\" height=\"13\" itemscope=\"image\" src=\"https://d2p3bygnnzw9w3.cloudfront.net/req/202208193/tlogo/fb/mini.fd962109.png\" style=\"vertical-align:text-top\" width=\"13\"/> <a href=\"/en/squads/fd962109/Fulham-Stats\">Fulham</a></td><td class=\"right\" data-stat=\"games\">5</td><td class=\"right\" data-stat=\"wins\">2</td><td class=\"right\" data-stat=\"ties\">2</td><td class=\"right\" data-stat=\"losses\">1</td><td class=\"right\" data-stat=\"goals_for\">8</td><td class=\"right\" data-stat=\"goals_against\">7</td><td class=\"right\" data-stat=\"goal_diff\">+1</td><td class=\"right\" data-stat=\"points\">8</td><td class=\"right\" data-stat=\"points_avg\">1.60</td><td class=\"right incomplete\" data-stat=\"xg_for\">5.5</td><td class=\"right incomplete\" data-stat=\"xg_against\">6.5</td><td class=\"right incomplete\" data-stat=\"xg_diff\">-1.0</td><td class=\"right incomplete\" data-stat=\"xg_diff_per90\">-0.25</td><td class=\"left\" csk=\"8\" data-stat=\"last_5\"><div style=\"display:inline-block\"><div class=\"poptip\" style=\"display:inline-block; border-radius:2px; background-color:#888; width:15px; text-align:center\" tip=\"&lt;strong&gt;August 6, 2022&lt;/strong&gt;&lt;br&gt;Fulham 2–2 Liverpool\"><a href=\"/en/matches/6713c1dc/Fulham-Liverpool-August-6-2022-Premier-League\" style=\"color:#fff; text-decoration:none; background-color: transparent\">D</a></div> <div class=\"poptip\" style=\"display:inline-block; border-radius:2px; background-color:#888; width:15px; text-align:center\" tip=\"&lt;strong&gt;August 13, 2022&lt;/strong&gt;&lt;br&gt;Wolves 0–0 Fulham\"><a href=\"/en/matches/669b1665/Wolverhampton-Wanderers-Fulham-August-13-2022-Premier-League\" style=\"color:#fff; text-decoration:none; background-color: transparent\">D</a></div> <div class=\"poptip\" style=\"display:inline-block; border-radius:2px; background-color:green; width:15px; text-align:center\" tip=\"&lt;strong&gt;August 20, 2022&lt;/strong&gt;&lt;br&gt;Fulham 3–2 Brentford\"><a href=\"/en/matches/a107c037/Fulham-Brentford-August-20-2022-Premier-League\" style=\"color:#fff; text-decoration:none; background-color: transparent\">W</a></div> <div class=\"poptip\" style=\"display:inline-block; border-radius:2px; background-color:#e60000; width:15px; text-align:center\" tip=\"&lt;strong&gt;August 27, 2022&lt;/strong&gt;&lt;br&gt;Arsenal 2–1 Fulham\"><a href=\"/en/matches/8b69fd2d/Arsenal-Fulham-August-27-2022-Premier-League\" style=\"color:#fff; text-decoration:none; background-color: transparent\">L</a></div> <div class=\"poptip\" style=\"display:inline-block; border-radius:2px; background-color:green; width:15px; text-align:center\" tip=\"&lt;strong&gt;August 30, 2022&lt;/strong&gt;&lt;br&gt;Fulham 2–1 Brighton\"><a href=\"/en/matches/361f4461/Fulham-Brighton-and-Hove-Albion-August-30-2022-Premier-League\" style=\"color:#fff; text-decoration:none; background-color: transparent\">W</a></div></div></td><td class=\"right\" csk=\"22076\" data-stat=\"attendance_per_g\">22,076</td><td class=\"right\" csk=\"5\" data-stat=\"top_team_scorers\"><a href=\"/en/players/3925dbd6/Aleksandar-Mitrovic\">Aleksandar Mitrović</a> - <span>5</span></td><td class=\"right\" data-stat=\"top_keeper\"><a href=\"/en/players/2628fd2b/Bernd-Leno\">Bernd Leno</a></td><td class=\"left iz\" data-stat=\"notes\"></td></tr> <tr><th class=\"right\" csk=\"7\" data-stat=\"rank\" scope=\"row\">7</th><td class=\"left\" data-stat=\"team\"><img alt=\"Club Crest\" height=\"13\" itemscope=\"image\" src=\"https://d2p3bygnnzw9w3.cloudfront.net/req/202208193/tlogo/fb/mini.33c895d4.png\" style=\"vertical-align:text-top\" width=\"13\"/> <a href=\"/en/squads/33c895d4/Southampton-Stats\">Southampton</a></td><td class=\"right\" data-stat=\"games\">5</td><td class=\"right\" data-stat=\"wins\">2</td><td class=\"right\" data-stat=\"ties\">1</td><td class=\"right\" data-stat=\"losses\">2</td><td class=\"right\" data-stat=\"goals_for\">7</td><td class=\"right\" data-stat=\"goals_against\">9</td><td class=\"right\" data-stat=\"goal_diff\">-2</td><td class=\"right\" data-stat=\"points\">7</td><td class=\"right\" data-stat=\"points_avg\">1.40</td><td class=\"right incomplete\" data-stat=\"xg_for\">3.9</td><td class=\"right incomplete\" data-stat=\"xg_against\">4.9</td><td class=\"right incomplete\" data-stat=\"xg_diff\">-1.1</td><td class=\"right incomplete\" data-stat=\"xg_diff_per90\">-0.26</td><td class=\"left\" csk=\"7\" data-stat=\"last_5\"><div style=\"display:inline-block\"><div class=\"poptip\" style=\"display:inline-block; border-radius:2px; background-color:#e60000; width:15px; text-align:center\" tip=\"&lt;strong&gt;August 6, 2022&lt;/strong&gt;&lt;br&gt;Tottenham 4–1 Southampton\"><a href=\"/en/matches/09d8a999/Tottenham-Hotspur-Southampton-August-6-2022-Premier-League\" style=\"color:#fff; text-decoration:none; background-color: transparent\">L</a></div> <div class=\"poptip\" style=\"display:inline-block; border-radius:2px; background-color:#888; width:15px; text-align:center\" tip=\"&lt;strong&gt;August 13, 2022&lt;/strong&gt;&lt;br&gt;Southampton 2–2 Leeds United\"><a href=\"/en/matches/54b33a13/Southampton-Leeds-United-August-13-2022-Premier-League\" style=\"color:#fff; text-decoration:none; background-color: transparent\">D</a></div> <div class=\"poptip\" style=\"display:inline-block; border-radius:2px; background-color:green; width:15px; text-align:center\" tip=\"&lt;strong&gt;August 20, 2022&lt;/strong&gt;&lt;br&gt;Leicester City 1–2 Southampton\"><a href=\"/en/matches/02efd4d1/Leicester-City-Southampton-August-20-2022-Premier-League\" style=\"color:#fff; text-decoration:none; background-color: transparent\">W</a></div> <div class=\"poptip\" style=\"display:inline-block; border-radius:2px; background-color:#e60000; width:15px; text-align:center\" tip=\"&lt;strong&gt;August 27, 2022&lt;/strong&gt;&lt;br&gt;Southampton 0–1 Manchester Utd\"><a href=\"/en/matches/dff99b20/Southampton-Manchester-United-August-27-2022-Premier-League\" style=\"color:#fff; text-decoration:none; background-color: transparent\">L</a></div> <div class=\"poptip\" style=\"display:inline-block; border-radius:2px; background-color:green; width:15px; text-align:center\" tip=\"&lt;strong&gt;August 30, 2022&lt;/strong&gt;&lt;br&gt;Southampton 2–1 Chelsea\"><a href=\"/en/matches/afd303a8/Southampton-Chelsea-August-30-2022-Premier-League\" style=\"color:#fff; text-decoration:none; background-color: transparent\">W</a></div></div></td><td class=\"right\" csk=\"20670\" data-stat=\"attendance_per_g\">20,670</td><td class=\"right\" csk=\"2\" data-stat=\"top_team_scorers\"><a href=\"/en/players/f2bf1b0f/Che-Adams\">Che Adams</a> - <span>2</span></td><td class=\"right\" data-stat=\"top_keeper\"><a href=\"/en/players/c91441dc/Gavin-Bazunu\">Gavin Bazunu</a></td><td class=\"left iz\" data-stat=\"notes\"></td></tr> <tr><th class=\"right\" csk=\"8\" data-stat=\"rank\" scope=\"row\">8</th><td class=\"left\" data-stat=\"team\"><img alt=\"Club Crest\" height=\"13\" itemscope=\"image\" src=\"https://d2p3bygnnzw9w3.cloudfront.net/req/202208193/tlogo/fb/mini.cff3d9bb.png\" style=\"vertical-align:text-top\" width=\"13\"/> <a href=\"/en/squads/cff3d9bb/Chelsea-Stats\">Chelsea</a></td><td class=\"right\" data-stat=\"games\">5</td><td class=\"right\" data-stat=\"wins\">2</td><td class=\"right\" data-stat=\"ties\">1</td><td class=\"right\" data-stat=\"losses\">2</td><td class=\"right\" data-stat=\"goals_for\">6</td><td class=\"right\" data-stat=\"goals_against\">8</td><td class=\"right\" data-stat=\"goal_diff\">-2</td><td class=\"right\" data-stat=\"points\">7</td><td class=\"right\" data-stat=\"points_avg\">1.40</td><td class=\"right incomplete\" data-stat=\"xg_for\">5.6</td><td class=\"right incomplete\" data-stat=\"xg_against\">5.2</td><td class=\"right incomplete\" data-stat=\"xg_diff\">+0.4</td><td class=\"right incomplete\" data-stat=\"xg_diff_per90\">+0.10</td><td class=\"left\" csk=\"7\" data-stat=\"last_5\"><div style=\"display:inline-block\"><div class=\"poptip\" style=\"display:inline-block; border-radius:2px; background-color:green; width:15px; text-align:center\" tip=\"&lt;strong&gt;August 6, 2022&lt;/strong&gt;&lt;br&gt;Everton 0–1 Chelsea\"><a href=\"/en/matches/3a917cee/Everton-Chelsea-August-6-2022-Premier-League\" style=\"color:#fff; text-decoration:none; background-color: transparent\">W</a></div> <div class=\"poptip\" style=\"display:inline-block; border-radius:2px; background-color:#888; width:15px; text-align:center\" tip=\"&lt;strong&gt;August 14, 2022&lt;/strong&gt;&lt;br&gt;Chelsea 2–2 Tottenham\"><a href=\"/en/matches/01e57bf5/Chelsea-Tottenham-Hotspur-August-14-2022-Premier-League\" style=\"color:#fff; text-decoration:none; background-color: transparent\">D</a></div> <div class=\"poptip\" style=\"display:inline-block; border-radius:2px; background-color:#e60000; width:15px; text-align:center\" tip=\"&lt;strong&gt;August 21, 2022&lt;/strong&gt;&lt;br&gt;Leeds United 3–0 Chelsea\"><a href=\"/en/matches/a5632124/Leeds-United-Chelsea-August-21-2022-Premier-League\" style=\"color:#fff; text-decoration:none; background-color: transparent\">L</a></div> <div class=\"poptip\" style=\"display:inline-block; border-radius:2px; background-color:green; width:15px; text-align:center\" tip=\"&lt;strong&gt;August 27, 2022&lt;/strong&gt;&lt;br&gt;Chelsea 2–1 Leicester City\"><a href=\"/en/matches/b737a3a7/Chelsea-Leicester-City-August-27-2022-Premier-League\" style=\"color:#fff; text-decoration:none; background-color: transparent\">W</a></div> <div class=\"poptip\" style=\"display:inline-block; border-radius:2px; background-color:#e60000; width:15px; text-align:center\" tip=\"&lt;strong&gt;August 30, 2022&lt;/strong&gt;&lt;br&gt;Southampton 2–1 Chelsea\"><a href=\"/en/matches/afd303a8/Southampton-Chelsea-August-30-2022-Premier-League\" style=\"color:#fff; text-decoration:none; background-color: transparent\">L</a></div></div></td><td class=\"right\" csk=\"39950\" data-stat=\"attendance_per_g\">39,950</td><td class=\"right\" csk=\"3\" data-stat=\"top_team_scorers\"><a href=\"/en/players/b400bde0/Raheem-Sterling\">Raheem Sterling</a> - <span>3</span></td><td class=\"right\" data-stat=\"top_keeper\"><a href=\"/en/players/33887998/Edouard-Mendy\">Edouard Mendy</a></td><td class=\"left iz\" data-stat=\"notes\"></td></tr> <tr><th class=\"right\" csk=\"9\" data-stat=\"rank\" scope=\"row\">9</th><td class=\"left\" data-stat=\"team\"><img alt=\"Club Crest\" height=\"13\" itemscope=\"image\" src=\"https://d2p3bygnnzw9w3.cloudfront.net/req/202208193/tlogo/fb/mini.cd051869.png\" style=\"vertical-align:text-top\" width=\"13\"/> <a href=\"/en/squads/cd051869/Brentford-Stats\">Brentford</a></td><td class=\"right\" data-stat=\"games\">5</td><td class=\"right\" data-stat=\"wins\">1</td><td class=\"right\" data-stat=\"ties\">3</td><td class=\"right\" data-stat=\"losses\">1</td><td class=\"right\" data-stat=\"goals_for\">10</td><td class=\"right\" data-stat=\"goals_against\">7</td><td class=\"right\" data-stat=\"goal_diff\">+3</td><td class=\"right\" data-stat=\"points\">6</td><td class=\"right\" data-stat=\"points_avg\">1.20</td><td class=\"right incomplete\" data-stat=\"xg_for\">6.5</td><td class=\"right incomplete\" data-stat=\"xg_against\">4.7</td><td class=\"right incomplete\" data-stat=\"xg_diff\">+1.8</td><td class=\"right incomplete\" data-stat=\"xg_diff_per90\">+0.45</td><td class=\"left\" csk=\"6\" data-stat=\"last_5\"><div style=\"display:inline-block\"><div class=\"poptip\" style=\"display:inline-block; border-radius:2px; background-color:#888; width:15px; text-align:center\" tip=\"&lt;strong&gt;August 7, 2022&lt;/strong&gt;&lt;br&gt;Leicester City 2–2 Brentford\"><a href=\"/en/matches/3249ba27/Leicester-City-Brentford-August-7-2022-Premier-League\" style=\"color:#fff; text-decoration:none; background-color: transparent\">D</a></div> <div class=\"poptip\" style=\"display:inline-block; border-radius:2px; background-color:green; width:15px; text-align:center\" tip=\"&lt;strong&gt;August 13, 2022&lt;/strong&gt;&lt;br&gt;Brentford 4–0 Manchester Utd\"><a href=\"/en/matches/04712d4e/Brentford-Manchester-United-August-13-2022-Premier-League\" style=\"color:#fff; text-decoration:none; background-color: transparent\">W</a></div> <div class=\"poptip\" style=\"display:inline-block; border-radius:2px; background-color:#e60000; width:15px; text-align:center\" tip=\"&lt;strong&gt;August 20, 2022&lt;/strong&gt;&lt;br&gt;Fulham 3–2 Brentford\"><a href=\"/en/matches/a107c037/Fulham-Brentford-August-20-2022-Premier-League\" style=\"color:#fff; text-decoration:none; background-color: transparent\">L</a></div> <div class=\"poptip\" style=\"display:inline-block; border-radius:2px; background-color:#888; width:15px; text-align:center\" tip=\"&lt;strong&gt;August 27, 2022&lt;/strong&gt;&lt;br&gt;Brentford 1–1 Everton\"><a href=\"/en/matches/db59fc65/Brentford-Everton-August-27-2022-Premier-League\" style=\"color:#fff; text-decoration:none; background-color: transparent\">D</a></div> <div class=\"poptip\" style=\"display:inline-block; border-radius:2px; background-color:#888; width:15px; text-align:center\" tip=\"&lt;strong&gt;August 30, 2022&lt;/strong&gt;&lt;br&gt;Crystal Palace 1–1 Brentford\"><a href=\"/en/matches/e1d6440f/Crystal-Palace-Brentford-August-30-2022-Premier-League\" style=\"color:#fff; text-decoration:none; background-color: transparent\">D</a></div></div></td><td class=\"right\" csk=\"17030\" data-stat=\"attendance_per_g\">17,030</td><td class=\"right\" csk=\"2\" data-stat=\"top_team_scorers\"><a href=\"/en/players/60344e4f/Josh-Dasilva\">Josh Dasilva</a>, <a href=\"/en/players/e09f279b/Ivan-Toney\">Ivan Toney</a> - <span>2</span></td><td class=\"right\" data-stat=\"top_keeper\"><a href=\"/en/players/98ea5115/David-Raya\">David Raya</a></td><td class=\"left iz\" data-stat=\"notes\"></td></tr> <tr><th class=\"right\" csk=\"10\" data-stat=\"rank\" scope=\"row\">10</th><td class=\"left\" data-stat=\"team\"><img alt=\"Club Crest\" height=\"13\" itemscope=\"image\" src=\"https://d2p3bygnnzw9w3.cloudfront.net/req/202208193/tlogo/fb/mini.b2b47a98.png\" style=\"vertical-align:text-top\" width=\"13\"/> <a href=\"/en/squads/b2b47a98/Newcastle-United-Stats\">Newcastle Utd</a></td><td class=\"right\" data-stat=\"games\">4</td><td class=\"right\" data-stat=\"wins\">1</td><td class=\"right\" data-stat=\"ties\">3</td><td class=\"right iz\" data-stat=\"losses\">0</td><td class=\"right\" data-stat=\"goals_for\">6</td><td class=\"right\" data-stat=\"goals_against\">4</td><td class=\"right\" data-stat=\"goal_diff\">+2</td><td class=\"right\" data-stat=\"points\">6</td><td class=\"right\" data-stat=\"points_avg\">1.50</td><td class=\"right\" data-stat=\"xg_for\">6.0</td><td class=\"right\" data-stat=\"xg_against\">4.9</td><td class=\"right\" data-stat=\"xg_diff\">+1.0</td><td class=\"right\" data-stat=\"xg_diff_per90\">+0.26</td><td class=\"left\" csk=\"6\" data-stat=\"last_5\"><div style=\"display:inline-block\"><div class=\"poptip\" style=\"display:inline-block; border-radius:2px; background-color:green; width:15px; text-align:center\" tip=\"&lt;strong&gt;August 6, 2022&lt;/strong&gt;&lt;br&gt;Newcastle Utd 2–0 Nott'ham Forest\"><a href=\"/en/matches/1ac96eb4/Newcastle-United-Nottingham-Forest-August-6-2022-Premier-League\" style=\"color:#fff; text-decoration:none; background-color: transparent\">W</a></div> <div class=\"poptip\" style=\"display:inline-block; border-radius:2px; background-color:#888; width:15px; text-align:center\" tip=\"&lt;strong&gt;August 13, 2022&lt;/strong&gt;&lt;br&gt;Brighton 0–0 Newcastle Utd\"><a href=\"/en/matches/c916a5f6/Brighton-and-Hove-Albion-Newcastle-United-August-13-2022-Premier-League\" style=\"color:#fff; text-decoration:none; background-color: transparent\">D</a></div> <div class=\"poptip\" style=\"display:inline-block; border-radius:2px; background-color:#888; width:15px; text-align:center\" tip=\"&lt;strong&gt;August 21, 2022&lt;/strong&gt;&lt;br&gt;Newcastle Utd 3–3 Manchester City\"><a href=\"/en/matches/b513d9fe/Newcastle-United-Manchester-City-August-21-2022-Premier-League\" style=\"color:#fff; text-decoration:none; background-color: transparent\">D</a></div> <div class=\"poptip\" style=\"display:inline-block; border-radius:2px; background-color:#888; width:15px; text-align:center\" tip=\"&lt;strong&gt;August 28, 2022&lt;/strong&gt;&lt;br&gt;Wolves 1–1 Newcastle Utd\"><a href=\"/en/matches/15d62d04/Wolverhampton-Wanderers-Newcastle-United-August-28-2022-Premier-League\" style=\"color:#fff; text-decoration:none; background-color: transparent\">D</a></div></div></td><td class=\"right\" csk=\"52252\" data-stat=\"attendance_per_g\">52,252</td><td class=\"right\" csk=\"2\" data-stat=\"top_team_scorers\"><a href=\"/en/players/c596fcb0/Callum-Wilson\">Callum Wilson</a> - <span>2</span></td><td class=\"right\" data-stat=\"top_keeper\"><a href=\"/en/players/4b40d9ca/Nick-Pope\">Nick Pope</a></td><td class=\"left iz\" data-stat=\"notes\"></td></tr> <tr><th class=\"right\" csk=\"11\" data-stat=\"rank\" scope=\"row\">11</th><td class=\"left\" data-stat=\"team\"><img alt=\"Club Crest\" height=\"13\" itemscope=\"image\" src=\"https://d2p3bygnnzw9w3.cloudfront.net/req/202208193/tlogo/fb/mini.19538871.png\" style=\"vertical-align:text-top\" width=\"13\"/> <a href=\"/en/squads/19538871/Manchester-United-Stats\">Manchester Utd</a></td><td class=\"right\" data-stat=\"games\">4</td><td class=\"right\" data-stat=\"wins\">2</td><td class=\"right iz\" data-stat=\"ties\">0</td><td class=\"right\" data-stat=\"losses\">2</td><td class=\"right\" data-stat=\"goals_for\">4</td><td class=\"right\" data-stat=\"goals_against\">7</td><td class=\"right\" data-stat=\"goal_diff\">-3</td><td class=\"right\" data-stat=\"points\">6</td><td class=\"right\" data-stat=\"points_avg\">1.50</td><td class=\"right\" data-stat=\"xg_for\">5.2</td><td class=\"right\" data-stat=\"xg_against\">6.4</td><td class=\"right\" data-stat=\"xg_diff\">-1.2</td><td class=\"right\" data-stat=\"xg_diff_per90\">-0.30</td><td class=\"left\" csk=\"6\" data-stat=\"last_5\"><div style=\"display:inline-block\"><div class=\"poptip\" style=\"display:inline-block; border-radius:2px; background-color:#e60000; width:15px; text-align:center\" tip=\"&lt;strong&gt;August 7, 2022&lt;/strong&gt;&lt;br&gt;Manchester Utd 1–2 Brighton\"><a href=\"/en/matches/8251694e/Manchester-United-Brighton-and-Hove-Albion-August-7-2022-Premier-League\" style=\"color:#fff; text-decoration:none; background-color: transparent\">L</a></div> <div class=\"poptip\" style=\"display:inline-block; border-radius:2px; background-color:#e60000; width:15px; text-align:center\" tip=\"&lt;strong&gt;August 13, 2022&lt;/strong&gt;&lt;br&gt;Brentford 4–0 Manchester Utd\"><a href=\"/en/matches/04712d4e/Brentford-Manchester-United-August-13-2022-Premier-League\" style=\"color:#fff; text-decoration:none; background-color: transparent\">L</a></div> <div class=\"poptip\" style=\"display:inline-block; border-radius:2px; background-color:green; width:15px; text-align:center\" tip=\"&lt;strong&gt;August 22, 2022&lt;/strong&gt;&lt;br&gt;Manchester Utd 2–1 Liverpool\"><a href=\"/en/matches/3c9a8f71/North-West-Derby-Manchester-United-Liverpool-August-22-2022-Premier-League\" style=\"color:#fff; text-decoration:none; background-color: transparent\">W</a></div> <div class=\"poptip\" style=\"display:inline-block; border-radius:2px; background-color:green; width:15px; text-align:center\" tip=\"&lt;strong&gt;August 27, 2022&lt;/strong&gt;&lt;br&gt;Southampton 0–1 Manchester Utd\"><a href=\"/en/matches/dff99b20/Southampton-Manchester-United-August-27-2022-Premier-League\" style=\"color:#fff; text-decoration:none; background-color: transparent\">W</a></div></div></td><td class=\"right\" csk=\"73929\" data-stat=\"attendance_per_g\">73,929</td><td class=\"right\" csk=\"1\" data-stat=\"top_team_scorers\"><a href=\"/en/players/507c7bdf/Bruno-Fernandes\">Bruno Fernandes</a>, <a href=\"/en/players/a1d5bd30/Marcus-Rashford\">Marcus Rashford</a>... - <span>1</span></td><td class=\"right\" data-stat=\"top_keeper\"><a href=\"/en/players/7ba6d84e/David-de-Gea\">David de Gea</a></td><td class=\"left iz\" data-stat=\"notes\"></td></tr> <tr><th class=\"right\" csk=\"12\" data-stat=\"rank\" scope=\"row\">12</th><td class=\"left\" data-stat=\"team\"><img alt=\"Club Crest\" height=\"13\" itemscope=\"image\" src=\"https://d2p3bygnnzw9w3.cloudfront.net/req/202208193/tlogo/fb/mini.822bd0ba.png\" style=\"vertical-align:text-top\" width=\"13\"/> <a href=\"/en/squads/822bd0ba/Liverpool-Stats\">Liverpool</a></td><td class=\"right\" data-stat=\"games\">4</td><td class=\"right\" data-stat=\"wins\">1</td><td class=\"right\" data-stat=\"ties\">2</td><td class=\"right\" data-stat=\"losses\">1</td><td class=\"right\" data-stat=\"goals_for\">13</td><td class=\"right\" data-stat=\"goals_against\">5</td><td class=\"right\" data-stat=\"goal_diff\">+8</td><td class=\"right\" data-stat=\"points\">5</td><td class=\"right\" data-stat=\"points_avg\">1.25</td><td class=\"right\" data-stat=\"xg_for\">8.6</td><td class=\"right\" data-stat=\"xg_against\">4.9</td><td class=\"right\" data-stat=\"xg_diff\">+3.7</td><td class=\"right\" data-stat=\"xg_diff_per90\">+0.92</td><td class=\"left\" csk=\"5\" data-stat=\"last_5\"><div style=\"display:inline-block\"><div class=\"poptip\" style=\"display:inline-block; border-radius:2px; background-color:#888; width:15px; text-align:center\" tip=\"&lt;strong&gt;August 6, 2022&lt;/strong&gt;&lt;br&gt;Fulham 2–2 Liverpool\"><a href=\"/en/matches/6713c1dc/Fulham-Liverpool-August-6-2022-Premier-League\" style=\"color:#fff; text-decoration:none; background-color: transparent\">D</a></div> <div class=\"poptip\" style=\"display:inline-block; border-radius:2px; background-color:#888; width:15px; text-align:center\" tip=\"&lt;strong&gt;August 15, 2022&lt;/strong&gt;&lt;br&gt;Liverpool 1–1 Crystal Palace\"><a href=\"/en/matches/b3c6f709/Liverpool-Crystal-Palace-August-15-2022-Premier-League\" style=\"color:#fff; text-decoration:none; background-color: transparent\">D</a></div> <div class=\"poptip\" style=\"display:inline-block; border-radius:2px; background-color:#e60000; width:15px; text-align:center\" tip=\"&lt;strong&gt;August 22, 2022&lt;/strong&gt;&lt;br&gt;Manchester Utd 2–1 Liverpool\"><a href=\"/en/matches/3c9a8f71/North-West-Derby-Manchester-United-Liverpool-August-22-2022-Premier-League\" style=\"color:#fff; text-decoration:none; background-color: transparent\">L</a></div> <div class=\"poptip\" style=\"display:inline-block; border-radius:2px; background-color:green; width:15px; text-align:center\" tip=\"&lt;strong&gt;August 27, 2022&lt;/strong&gt;&lt;br&gt;Liverpool 9–0 Bournemouth\"><a href=\"/en/matches/de515487/Liverpool-Bournemouth-August-27-2022-Premier-League\" style=\"color:#fff; text-decoration:none; background-color: transparent\">W</a></div></div></td><td class=\"right\" csk=\"53149\" data-stat=\"attendance_per_g\">53,149</td><td class=\"right\" csk=\"3\" data-stat=\"top_team_scorers\"><a href=\"/en/players/4a1a9578/Luis-Diaz\">Luis Díaz</a> - <span>3</span></td><td class=\"right\" data-stat=\"top_keeper\"><a href=\"/en/players/7a2e46a8/Alisson\">Alisson</a></td><td class=\"left iz\" data-stat=\"notes\"></td></tr> <tr><th class=\"right\" csk=\"13\" data-stat=\"rank\" scope=\"row\">13</th><td class=\"left\" data-stat=\"team\"><img alt=\"Club Crest\" height=\"13\" itemscope=\"image\" src=\"https://d2p3bygnnzw9w3.cloudfront.net/req/202208193/tlogo/fb/mini.47c64c55.png\" style=\"vertical-align:text-top\" width=\"13\"/> <a href=\"/en/squads/47c64c55/Crystal-Palace-Stats\">Crystal Palace</a></td><td class=\"right\" data-stat=\"games\">5</td><td class=\"right\" data-stat=\"wins\">1</td><td class=\"right\" data-stat=\"ties\">2</td><td class=\"right\" data-stat=\"losses\">2</td><td class=\"right\" data-stat=\"goals_for\">7</td><td class=\"right\" data-stat=\"goals_against\">9</td><td class=\"right\" data-stat=\"goal_diff\">-2</td><td class=\"right\" data-stat=\"points\">5</td><td class=\"right\" data-stat=\"points_avg\">1.00</td><td class=\"right incomplete\" data-stat=\"xg_for\">5.6</td><td class=\"right incomplete\" data-stat=\"xg_against\">6.4</td><td class=\"right incomplete\" data-stat=\"xg_diff\">-0.8</td><td class=\"right incomplete\" data-stat=\"xg_diff_per90\">-0.20</td><td class=\"left\" csk=\"5\" data-stat=\"last_5\"><div style=\"display:inline-block\"><div class=\"poptip\" style=\"display:inline-block; border-radius:2px; background-color:#e60000; width:15px; text-align:center\" tip=\"&lt;strong&gt;August 5, 2022&lt;/strong&gt;&lt;br&gt;Crystal Palace 0–2 Arsenal\"><a href=\"/en/matches/e62f6e78/Crystal-Palace-Arsenal-August-5-2022-Premier-League\" style=\"color:#fff; text-decoration:none; background-color: transparent\">L</a></div> <div class=\"poptip\" style=\"display:inline-block; border-radius:2px; background-color:#888; width:15px; text-align:center\" tip=\"&lt;strong&gt;August 15, 2022&lt;/strong&gt;&lt;br&gt;Liverpool 1–1 Crystal Palace\"><a href=\"/en/matches/b3c6f709/Liverpool-Crystal-Palace-August-15-2022-Premier-League\" style=\"color:#fff; text-decoration:none; background-color: transparent\">D</a></div> <div class=\"poptip\" style=\"display:inline-block; border-radius:2px; background-color:green; width:15px; text-align:center\" tip=\"&lt;strong&gt;August 20, 2022&lt;/strong&gt;&lt;br&gt;Crystal Palace 3–1 Aston Villa\"><a href=\"/en/matches/3f89bccf/Crystal-Palace-Aston-Villa-August-20-2022-Premier-League\" style=\"color:#fff; text-decoration:none; background-color: transparent\">W</a></div> <div class=\"poptip\" style=\"display:inline-block; border-radius:2px; background-color:#e60000; width:15px; text-align:center\" tip=\"&lt;strong&gt;August 27, 2022&lt;/strong&gt;&lt;br&gt;Manchester City 4–2 Crystal Palace\"><a href=\"/en/matches/3b9bbac7/Manchester-City-Crystal-Palace-August-27-2022-Premier-League\" style=\"color:#fff; text-decoration:none; background-color: transparent\">L</a></div> <div class=\"poptip\" style=\"display:inline-block; border-radius:2px; background-color:#888; width:15px; text-align:center\" tip=\"&lt;strong&gt;August 30, 2022&lt;/strong&gt;&lt;br&gt;Crystal Palace 1–1 Brentford\"><a href=\"/en/matches/e1d6440f/Crystal-Palace-Brentford-August-30-2022-Premier-League\" style=\"color:#fff; text-decoration:none; background-color: transparent\">D</a></div></div></td><td class=\"right\" csk=\"24114\" data-stat=\"attendance_per_g\">24,114</td><td class=\"right\" csk=\"4\" data-stat=\"top_team_scorers\"><a href=\"/en/players/b2bc3b1f/Wilfried-Zaha\">Wilfried Zaha</a> - <span>4</span></td><td class=\"right\" data-stat=\"top_keeper\"><a href=\"/en/players/ab13a5aa/Vicente-Guaita\">Vicente Guaita</a></td><td class=\"left iz\" data-stat=\"notes\"></td></tr> <tr><th class=\"right\" csk=\"14\" data-stat=\"rank\" scope=\"row\">14</th><td class=\"left\" data-stat=\"team\"><img alt=\"Club Crest\" height=\"13\" itemscope=\"image\" src=\"https://d2p3bygnnzw9w3.cloudfront.net/req/202208193/tlogo/fb/mini.e4a775cb.png\" style=\"vertical-align:text-top\" width=\"13\"/> <a href=\"/en/squads/e4a775cb/Nottingham-Forest-Stats\">Nott'ham Forest</a></td><td class=\"right\" data-stat=\"games\">4</td><td class=\"right\" data-stat=\"wins\">1</td><td class=\"right\" data-stat=\"ties\">1</td><td class=\"right\" data-stat=\"losses\">2</td><td class=\"right\" data-stat=\"goals_for\">2</td><td class=\"right\" data-stat=\"goals_against\">5</td><td class=\"right\" data-stat=\"goal_diff\">-3</td><td class=\"right\" data-stat=\"points\">4</td><td class=\"right\" data-stat=\"points_avg\">1.00</td><td class=\"right\" data-stat=\"xg_for\">3.8</td><td class=\"right\" data-stat=\"xg_against\">8.7</td><td class=\"right\" data-stat=\"xg_diff\">-4.9</td><td class=\"right\" data-stat=\"xg_diff_per90\">-1.23</td><td class=\"left\" csk=\"4\" data-stat=\"last_5\"><div style=\"display:inline-block\"><div class=\"poptip\" style=\"display:inline-block; border-radius:2px; background-color:#e60000; width:15px; text-align:center\" tip=\"&lt;strong&gt;August 6, 2022&lt;/strong&gt;&lt;br&gt;Newcastle Utd 2–0 Nott'ham Forest\"><a href=\"/en/matches/1ac96eb4/Newcastle-United-Nottingham-Forest-August-6-2022-Premier-League\" style=\"color:#fff; text-decoration:none; background-color: transparent\">L</a></div> <div class=\"poptip\" style=\"display:inline-block; border-radius:2px; background-color:green; width:15px; text-align:center\" tip=\"&lt;strong&gt;August 14, 2022&lt;/strong&gt;&lt;br&gt;Nott'ham Forest 1–0 West Ham\"><a href=\"/en/matches/b1ebeda5/Nottingham-Forest-West-Ham-United-August-14-2022-Premier-League\" style=\"color:#fff; text-decoration:none; background-color: transparent\">W</a></div> <div class=\"poptip\" style=\"display:inline-block; border-radius:2px; background-color:#888; width:15px; text-align:center\" tip=\"&lt;strong&gt;August 20, 2022&lt;/strong&gt;&lt;br&gt;Everton 1–1 Nott'ham Forest\"><a href=\"/en/matches/3c3cc86f/Everton-Nottingham-Forest-August-20-2022-Premier-League\" style=\"color:#fff; text-decoration:none; background-color: transparent\">D</a></div> <div class=\"poptip\" style=\"display:inline-block; border-radius:2px; background-color:#e60000; width:15px; text-align:center\" tip=\"&lt;strong&gt;August 28, 2022&lt;/strong&gt;&lt;br&gt;Nott'ham Forest 0–2 Tottenham\"><a href=\"/en/matches/3c364307/Nottingham-Forest-Tottenham-Hotspur-August-28-2022-Premier-League\" style=\"color:#fff; text-decoration:none; background-color: transparent\">L</a></div></div></td><td class=\"right\" csk=\"29289\" data-stat=\"attendance_per_g\">29,289</td><td class=\"right\" csk=\"1\" data-stat=\"top_team_scorers\"><a href=\"/en/players/0cd31129/Brennan-Johnson\">Brennan Johnson</a>, <a href=\"/en/players/e5478b87/Taiwo-Awoniyi\">Taiwo Awoniyi</a> - <span>1</span></td><td class=\"right\" data-stat=\"top_keeper\"><a href=\"/en/players/e5a76dfe/Dean-Henderson\">Dean Henderson</a></td><td class=\"left iz\" data-stat=\"notes\"></td></tr> <tr><th class=\"right\" csk=\"15\" data-stat=\"rank\" scope=\"row\">15</th><td class=\"left\" data-stat=\"team\"><img alt=\"Club Crest\" height=\"13\" itemscope=\"image\" src=\"https://d2p3bygnnzw9w3.cloudfront.net/req/202208193/tlogo/fb/mini.d3fd31cc.png\" style=\"vertical-align:text-top\" width=\"13\"/> <a href=\"/en/squads/d3fd31cc/Everton-Stats\">Everton</a></td><td class=\"right\" data-stat=\"games\">5</td><td class=\"right iz\" data-stat=\"wins\">0</td><td class=\"right\" data-stat=\"ties\">3</td><td class=\"right\" data-stat=\"losses\">2</td><td class=\"right\" data-stat=\"goals_for\">4</td><td class=\"right\" data-stat=\"goals_against\">6</td><td class=\"right\" data-stat=\"goal_diff\">-2</td><td class=\"right\" data-stat=\"points\">3</td><td class=\"right\" data-stat=\"points_avg\">0.60</td><td class=\"right incomplete\" data-stat=\"xg_for\">5.2</td><td class=\"right incomplete\" data-stat=\"xg_against\">7.1</td><td class=\"right incomplete\" data-stat=\"xg_diff\">-1.8</td><td class=\"right incomplete\" data-stat=\"xg_diff_per90\">-0.46</td><td class=\"left\" csk=\"3\" data-stat=\"last_5\"><div style=\"display:inline-block\"><div class=\"poptip\" style=\"display:inline-block; border-radius:2px; background-color:#e60000; width:15px; text-align:center\" tip=\"&lt;strong&gt;August 6, 2022&lt;/strong&gt;&lt;br&gt;Everton 0–1 Chelsea\"><a href=\"/en/matches/3a917cee/Everton-Chelsea-August-6-2022-Premier-League\" style=\"color:#fff; text-decoration:none; background-color: transparent\">L</a></div> <div class=\"poptip\" style=\"display:inline-block; border-radius:2px; background-color:#e60000; width:15px; text-align:center\" tip=\"&lt;strong&gt;August 13, 2022&lt;/strong&gt;&lt;br&gt;Aston Villa 2–1 Everton\"><a href=\"/en/matches/8cd71c65/Aston-Villa-Everton-August-13-2022-Premier-League\" style=\"color:#fff; text-decoration:none; background-color: transparent\">L</a></div> <div class=\"poptip\" style=\"display:inline-block; border-radius:2px; background-color:#888; width:15px; text-align:center\" tip=\"&lt;strong&gt;August 20, 2022&lt;/strong&gt;&lt;br&gt;Everton 1–1 Nott'ham Forest\"><a href=\"/en/matches/3c3cc86f/Everton-Nottingham-Forest-August-20-2022-Premier-League\" style=\"color:#fff; text-decoration:none; background-color: transparent\">D</a></div> <div class=\"poptip\" style=\"display:inline-block; border-radius:2px; background-color:#888; width:15px; text-align:center\" tip=\"&lt;strong&gt;August 27, 2022&lt;/strong&gt;&lt;br&gt;Brentford 1–1 Everton\"><a href=\"/en/matches/db59fc65/Brentford-Everton-August-27-2022-Premier-League\" style=\"color:#fff; text-decoration:none; background-color: transparent\">D</a></div> <div class=\"poptip\" style=\"display:inline-block; border-radius:2px; background-color:#888; width:15px; text-align:center\" tip=\"&lt;strong&gt;August 30, 2022&lt;/strong&gt;&lt;br&gt;Leeds United 1–1 Everton\"><a href=\"/en/matches/42d294e5/Leeds-United-Everton-August-30-2022-Premier-League\" style=\"color:#fff; text-decoration:none; background-color: transparent\">D</a></div></div></td><td class=\"right\" csk=\"39263\" data-stat=\"attendance_per_g\">39,263</td><td class=\"right\" csk=\"2\" data-stat=\"top_team_scorers\"><a href=\"/en/players/2bd83368/Anthony-Gordon\">Anthony Gordon</a> - <span>2</span></td><td class=\"right\" data-stat=\"top_keeper\"><a href=\"/en/players/4806ec67/Jordan-Pickford\">Jordan Pickford</a></td><td class=\"left iz\" data-stat=\"notes\"></td></tr> <tr><th class=\"right\" csk=\"16\" data-stat=\"rank\" scope=\"row\">16</th><td class=\"left\" data-stat=\"team\"><img alt=\"Club Crest\" height=\"13\" itemscope=\"image\" src=\"https://d2p3bygnnzw9w3.cloudfront.net/req/202208193/tlogo/fb/mini.8602292d.png\" style=\"vertical-align:text-top\" width=\"13\"/> <a href=\"/en/squads/8602292d/Aston-Villa-Stats\">Aston Villa</a></td><td class=\"right\" data-stat=\"games\">4</td><td class=\"right\" data-stat=\"wins\">1</td><td class=\"right iz\" data-stat=\"ties\">0</td><td class=\"right\" data-stat=\"losses\">3</td><td class=\"right\" data-stat=\"goals_for\">3</td><td class=\"right\" data-stat=\"goals_against\">7</td><td class=\"right\" data-stat=\"goal_diff\">-4</td><td class=\"right\" data-stat=\"points\">3</td><td class=\"right\" data-stat=\"points_avg\">0.75</td><td class=\"right\" data-stat=\"xg_for\">4.1</td><td class=\"right\" data-stat=\"xg_against\">5.4</td><td class=\"right\" data-stat=\"xg_diff\">-1.4</td><td class=\"right\" data-stat=\"xg_diff_per90\">-0.34</td><td class=\"left\" csk=\"3\" data-stat=\"last_5\"><div style=\"display:inline-block\"><div class=\"poptip\" style=\"display:inline-block; border-radius:2px; background-color:#e60000; width:15px; text-align:center\" tip=\"&lt;strong&gt;August 6, 2022&lt;/strong&gt;&lt;br&gt;Bournemouth 2–0 Aston Villa\"><a href=\"/en/matches/877e3193/Bournemouth-Aston-Villa-August-6-2022-Premier-League\" style=\"color:#fff; text-decoration:none; background-color: transparent\">L</a></div> <div class=\"poptip\" style=\"display:inline-block; border-radius:2px; background-color:green; width:15px; text-align:center\" tip=\"&lt;strong&gt;August 13, 2022&lt;/strong&gt;&lt;br&gt;Aston Villa 2–1 Everton\"><a href=\"/en/matches/8cd71c65/Aston-Villa-Everton-August-13-2022-Premier-League\" style=\"color:#fff; text-decoration:none; background-color: transparent\">W</a></div> <div class=\"poptip\" style=\"display:inline-block; border-radius:2px; background-color:#e60000; width:15px; text-align:center\" tip=\"&lt;strong&gt;August 20, 2022&lt;/strong&gt;&lt;br&gt;Crystal Palace 3–1 Aston Villa\"><a href=\"/en/matches/3f89bccf/Crystal-Palace-Aston-Villa-August-20-2022-Premier-League\" style=\"color:#fff; text-decoration:none; background-color: transparent\">L</a></div> <div class=\"poptip\" style=\"display:inline-block; border-radius:2px; background-color:#e60000; width:15px; text-align:center\" tip=\"&lt;strong&gt;August 28, 2022&lt;/strong&gt;&lt;br&gt;Aston Villa 0–1 West Ham\"><a href=\"/en/matches/659b9113/Aston-Villa-West-Ham-United-August-28-2022-Premier-League\" style=\"color:#fff; text-decoration:none; background-color: transparent\">L</a></div></div></td><td class=\"right\" csk=\"41840\" data-stat=\"attendance_per_g\">41,840</td><td class=\"right\" csk=\"1\" data-stat=\"top_team_scorers\"><a href=\"/en/players/66b76d44/Emi-Buendia\">Emi Buendía</a>, <a href=\"/en/players/aed3a70f/Ollie-Watkins\">Ollie Watkins</a>... - <span>1</span></td><td class=\"right\" data-stat=\"top_keeper\"><a href=\"/en/players/7956236f/Emiliano-Martinez\">Emiliano Martínez</a></td><td class=\"left iz\" data-stat=\"notes\"></td></tr> <tr><th class=\"right\" csk=\"17\" data-stat=\"rank\" scope=\"row\">17</th><td class=\"left\" data-stat=\"team\"><img alt=\"Club Crest\" height=\"13\" itemscope=\"image\" src=\"https://d2p3bygnnzw9w3.cloudfront.net/req/202208193/tlogo/fb/mini.7c21e445.png\" style=\"vertical-align:text-top\" width=\"13\"/> <a href=\"/en/squads/7c21e445/West-Ham-United-Stats\">West Ham</a></td><td class=\"right\" data-stat=\"games\">4</td><td class=\"right\" data-stat=\"wins\">1</td><td class=\"right iz\" data-stat=\"ties\">0</td><td class=\"right\" data-stat=\"losses\">3</td><td class=\"right\" data-stat=\"goals_for\">1</td><td class=\"right\" data-stat=\"goals_against\">5</td><td class=\"right\" data-stat=\"goal_diff\">-4</td><td class=\"right\" data-stat=\"points\">3</td><td class=\"right\" data-stat=\"points_avg\">0.75</td><td class=\"right\" data-stat=\"xg_for\">3.6</td><td class=\"right\" data-stat=\"xg_against\">5.8</td><td class=\"right\" data-stat=\"xg_diff\">-2.2</td><td class=\"right\" data-stat=\"xg_diff_per90\">-0.56</td><td class=\"left\" csk=\"3\" data-stat=\"last_5\"><div style=\"display:inline-block\"><div class=\"poptip\" style=\"display:inline-block; border-radius:2px; background-color:#e60000; width:15px; text-align:center\" tip=\"&lt;strong&gt;August 7, 2022&lt;/strong&gt;&lt;br&gt;West Ham 0–2 Manchester City\"><a href=\"/en/matches/ece62baf/West-Ham-United-Manchester-City-August-7-2022-Premier-League\" style=\"color:#fff; text-decoration:none; background-color: transparent\">L</a></div> <div class=\"poptip\" style=\"display:inline-block; border-radius:2px; background-color:#e60000; width:15px; text-align:center\" tip=\"&lt;strong&gt;August 14, 2022&lt;/strong&gt;&lt;br&gt;Nott'ham Forest 1–0 West Ham\"><a href=\"/en/matches/b1ebeda5/Nottingham-Forest-West-Ham-United-August-14-2022-Premier-League\" style=\"color:#fff; text-decoration:none; background-color: transparent\">L</a></div> <div class=\"poptip\" style=\"display:inline-block; border-radius:2px; background-color:#e60000; width:15px; text-align:center\" tip=\"&lt;strong&gt;August 21, 2022&lt;/strong&gt;&lt;br&gt;West Ham 0–2 Brighton\"><a href=\"/en/matches/aa2a3517/West-Ham-United-Brighton-and-Hove-Albion-August-21-2022-Premier-League\" style=\"color:#fff; text-decoration:none; background-color: transparent\">L</a></div> <div class=\"poptip\" style=\"display:inline-block; border-radius:2px; background-color:green; width:15px; text-align:center\" tip=\"&lt;strong&gt;August 28, 2022&lt;/strong&gt;&lt;br&gt;Aston Villa 0–1 West Ham\"><a href=\"/en/matches/659b9113/Aston-Villa-West-Ham-United-August-28-2022-Premier-League\" style=\"color:#fff; text-decoration:none; background-color: transparent\">W</a></div></div></td><td class=\"right\" csk=\"62446\" data-stat=\"attendance_per_g\">62,446</td><td class=\"right\" csk=\"1\" data-stat=\"top_team_scorers\"><a href=\"/en/players/82927de4/Pablo-Fornals\">Pablo Fornals</a> - <span>1</span></td><td class=\"right\" data-stat=\"top_keeper\"><a href=\"/en/players/9328b835/Lukasz-Fabianski\">Łukasz Fabiański</a></td><td class=\"left iz\" data-stat=\"notes\"></td></tr> <tr><th class=\"right relegate\" csk=\"18\" data-stat=\"rank\" scope=\"row\">18</th><td class=\"left\" data-stat=\"team\"><img alt=\"Club Crest\" height=\"13\" itemscope=\"image\" src=\"https://d2p3bygnnzw9w3.cloudfront.net/req/202208193/tlogo/fb/mini.4ba7cbea.png\" style=\"vertical-align:text-top\" width=\"13\"/> <a href=\"/en/squads/4ba7cbea/Bournemouth-Stats\">Bournemouth</a></td><td class=\"right\" data-stat=\"games\">4</td><td class=\"right\" data-stat=\"wins\">1</td><td class=\"right iz\" data-stat=\"ties\">0</td><td class=\"right\" data-stat=\"losses\">3</td><td class=\"right\" data-stat=\"goals_for\">2</td><td class=\"right\" data-stat=\"goals_against\">16</td><td class=\"right\" data-stat=\"goal_diff\">-14</td><td class=\"right\" data-stat=\"points\">3</td><td class=\"right\" data-stat=\"points_avg\">0.75</td><td class=\"right\" data-stat=\"xg_for\">1.3</td><td class=\"right\" data-stat=\"xg_against\">7.4</td><td class=\"right\" data-stat=\"xg_diff\">-6.1</td><td class=\"right\" data-stat=\"xg_diff_per90\">-1.53</td><td class=\"left\" csk=\"3\" data-stat=\"last_5\"><div style=\"display:inline-block\"><div class=\"poptip\" style=\"display:inline-block; border-radius:2px; background-color:green; width:15px; text-align:center\" tip=\"&lt;strong&gt;August 6, 2022&lt;/strong&gt;&lt;br&gt;Bournemouth 2–0 Aston Villa\"><a href=\"/en/matches/877e3193/Bournemouth-Aston-Villa-August-6-2022-Premier-League\" style=\"color:#fff; text-decoration:none; background-color: transparent\">W</a></div> <div class=\"poptip\" style=\"display:inline-block; border-radius:2px; background-color:#e60000; width:15px; text-align:center\" tip=\"&lt;strong&gt;August 13, 2022&lt;/strong&gt;&lt;br&gt;Manchester City 4–0 Bournemouth\"><a href=\"/en/matches/311d705c/Manchester-City-Bournemouth-August-13-2022-Premier-League\" style=\"color:#fff; text-decoration:none; background-color: transparent\">L</a></div> <div class=\"poptip\" style=\"display:inline-block; border-radius:2px; background-color:#e60000; width:15px; text-align:center\" tip=\"&lt;strong&gt;August 20, 2022&lt;/strong&gt;&lt;br&gt;Bournemouth 0–3 Arsenal\"><a href=\"/en/matches/7f11dd9e/Bournemouth-Arsenal-August-20-2022-Premier-League\" style=\"color:#fff; text-decoration:none; background-color: transparent\">L</a></div> <div class=\"poptip\" style=\"display:inline-block; border-radius:2px; background-color:#e60000; width:15px; text-align:center\" tip=\"&lt;strong&gt;August 27, 2022&lt;/strong&gt;&lt;br&gt;Liverpool 9–0 Bournemouth\"><a href=\"/en/matches/de515487/Liverpool-Bournemouth-August-27-2022-Premier-League\" style=\"color:#fff; text-decoration:none; background-color: transparent\">L</a></div></div></td><td class=\"right\" csk=\"10718\" data-stat=\"attendance_per_g\">10,718</td><td class=\"right\" csk=\"1\" data-stat=\"top_team_scorers\"><a href=\"/en/players/9b5ce51a/Jefferson-Lerma\">Jefferson Lerma</a>, <a href=\"/en/players/01ce9e70/Kieffer-Moore\">Kieffer Moore</a> - <span>1</span></td><td class=\"right\" data-stat=\"top_keeper\"><a href=\"/en/players/fe558029/Mark-Travers\">Mark Travers</a></td><td class=\"left iz\" data-stat=\"notes\"></td></tr> <tr><th class=\"right relegate\" csk=\"19\" data-stat=\"rank\" scope=\"row\">19</th><td class=\"left\" data-stat=\"team\"><img alt=\"Club Crest\" height=\"13\" itemscope=\"image\" src=\"https://d2p3bygnnzw9w3.cloudfront.net/req/202208193/tlogo/fb/mini.8cec06e1.png\" style=\"vertical-align:text-top\" width=\"13\"/> <a href=\"/en/squads/8cec06e1/Wolverhampton-Wanderers-Stats\">Wolves</a></td><td class=\"right\" data-stat=\"games\">4</td><td class=\"right iz\" data-stat=\"wins\">0</td><td class=\"right\" data-stat=\"ties\">2</td><td class=\"right\" data-stat=\"losses\">2</td><td class=\"right\" data-stat=\"goals_for\">2</td><td class=\"right\" data-stat=\"goals_against\">4</td><td class=\"right\" data-stat=\"goal_diff\">-2</td><td class=\"right\" data-stat=\"points\">2</td><td class=\"right\" data-stat=\"points_avg\">0.50</td><td class=\"right\" data-stat=\"xg_for\">3.5</td><td class=\"right\" data-stat=\"xg_against\">5.4</td><td class=\"right\" data-stat=\"xg_diff\">-1.8</td><td class=\"right\" data-stat=\"xg_diff_per90\">-0.46</td><td class=\"left\" csk=\"2\" data-stat=\"last_5\"><div style=\"display:inline-block\"><div class=\"poptip\" style=\"display:inline-block; border-radius:2px; background-color:#e60000; width:15px; text-align:center\" tip=\"&lt;strong&gt;August 6, 2022&lt;/strong&gt;&lt;br&gt;Leeds United 2–1 Wolves\"><a href=\"/en/matches/82702941/Leeds-United-Wolverhampton-Wanderers-August-6-2022-Premier-League\" style=\"color:#fff; text-decoration:none; background-color: transparent\">L</a></div> <div class=\"poptip\" style=\"display:inline-block; border-radius:2px; background-color:#888; width:15px; text-align:center\" tip=\"&lt;strong&gt;August 13, 2022&lt;/strong&gt;&lt;br&gt;Wolves 0–0 Fulham\"><a href=\"/en/matches/669b1665/Wolverhampton-Wanderers-Fulham-August-13-2022-Premier-League\" style=\"color:#fff; text-decoration:none; background-color: transparent\">D</a></div> <div class=\"poptip\" style=\"display:inline-block; border-radius:2px; background-color:#e60000; width:15px; text-align:center\" tip=\"&lt;strong&gt;August 20, 2022&lt;/strong&gt;&lt;br&gt;Tottenham 1–0 Wolves\"><a href=\"/en/matches/5cc3bd0e/Tottenham-Hotspur-Wolverhampton-Wanderers-August-20-2022-Premier-League\" style=\"color:#fff; text-decoration:none; background-color: transparent\">L</a></div> <div class=\"poptip\" style=\"display:inline-block; border-radius:2px; background-color:#888; width:15px; text-align:center\" tip=\"&lt;strong&gt;August 28, 2022&lt;/strong&gt;&lt;br&gt;Wolves 1–1 Newcastle Utd\"><a href=\"/en/matches/15d62d04/Wolverhampton-Wanderers-Newcastle-United-August-28-2022-Premier-League\" style=\"color:#fff; text-decoration:none; background-color: transparent\">D</a></div></div></td><td class=\"right\" csk=\"31245\" data-stat=\"attendance_per_g\">31,245</td><td class=\"right\" csk=\"1\" data-stat=\"top_team_scorers\"><a href=\"/en/players/44bfb6c5/Ruben-Neves\">Rúben Neves</a>, <a href=\"/en/players/7fcc71d8/Daniel-Podence\">Daniel Podence</a> - <span>1</span></td><td class=\"right\" data-stat=\"top_keeper\"><a href=\"/en/players/903b6e8b/Jose-Sa\">José Sá</a></td><td class=\"left iz\" data-stat=\"notes\"></td></tr> <tr><th class=\"right relegate\" csk=\"20\" data-stat=\"rank\" scope=\"row\">20</th><td class=\"left\" data-stat=\"team\"><img alt=\"Club Crest\" height=\"13\" itemscope=\"image\" src=\"https://d2p3bygnnzw9w3.cloudfront.net/req/202208193/tlogo/fb/mini.a2d435b3.png\" style=\"vertical-align:text-top\" width=\"13\"/> <a href=\"/en/squads/a2d435b3/Leicester-City-Stats\">Leicester City</a></td><td class=\"right\" data-stat=\"games\">4</td><td class=\"right iz\" data-stat=\"wins\">0</td><td class=\"right\" data-stat=\"ties\">1</td><td class=\"right\" data-stat=\"losses\">3</td><td class=\"right\" data-stat=\"goals_for\">6</td><td class=\"right\" data-stat=\"goals_against\">10</td><td class=\"right\" data-stat=\"goal_diff\">-4</td><td class=\"right\" data-stat=\"points\">1</td><td class=\"right\" data-stat=\"points_avg\">0.25</td><td class=\"right\" data-stat=\"xg_for\">3.2</td><td class=\"right\" data-stat=\"xg_against\">5.6</td><td class=\"right\" data-stat=\"xg_diff\">-2.4</td><td class=\"right\" data-stat=\"xg_diff_per90\">-0.60</td><td class=\"left\" csk=\"1\" data-stat=\"last_5\"><div style=\"display:inline-block\"><div class=\"poptip\" style=\"display:inline-block; border-radius:2px; background-color:#888; width:15px; text-align:center\" tip=\"&lt;strong&gt;August 7, 2022&lt;/strong&gt;&lt;br&gt;Leicester City 2–2 Brentford\"><a href=\"/en/matches/3249ba27/Leicester-City-Brentford-August-7-2022-Premier-League\" style=\"color:#fff; text-decoration:none; background-color: transparent\">D</a></div> <div class=\"poptip\" style=\"display:inline-block; border-radius:2px; background-color:#e60000; width:15px; text-align:center\" tip=\"&lt;strong&gt;August 13, 2022&lt;/strong&gt;&lt;br&gt;Arsenal 4–2 Leicester City\"><a href=\"/en/matches/7483b97f/Arsenal-Leicester-City-August-13-2022-Premier-League\" style=\"color:#fff; text-decoration:none; background-color: transparent\">L</a></div> <div class=\"poptip\" style=\"display:inline-block; border-radius:2px; background-color:#e60000; width:15px; text-align:center\" tip=\"&lt;strong&gt;August 20, 2022&lt;/strong&gt;&lt;br&gt;Leicester City 1–2 Southampton\"><a href=\"/en/matches/02efd4d1/Leicester-City-Southampton-August-20-2022-Premier-League\" style=\"color:#fff; text-decoration:none; background-color: transparent\">L</a></div> <div class=\"poptip\" style=\"display:inline-block; border-radius:2px; background-color:#e60000; width:15px; text-align:center\" tip=\"&lt;strong&gt;August 27, 2022&lt;/strong&gt;&lt;br&gt;Chelsea 2–1 Leicester City\"><a href=\"/en/matches/b737a3a7/Chelsea-Leicester-City-August-27-2022-Premier-League\" style=\"color:#fff; text-decoration:none; background-color: transparent\">L</a></div></div></td><td class=\"right\" csk=\"31322\" data-stat=\"attendance_per_g\">31,322</td><td class=\"right\" csk=\"2\" data-stat=\"top_team_scorers\"><a href=\"/en/players/ee38d9c5/James-Maddison\">James Maddison</a> - <span>2</span></td><td class=\"right\" data-stat=\"top_keeper\"><a href=\"/en/players/d3ce0e89/Danny-Ward\">Danny Ward</a></td><td class=\"left iz\" data-stat=\"notes\"></td></tr> </tbody> </table>"
      ]
     },
     "execution_count": 24,
     "metadata": {},
     "output_type": "execute_result"
    }
   ],
   "source": [
    "standings_table"
   ]
  },
  {
   "cell_type": "code",
   "execution_count": 25,
   "metadata": {},
   "outputs": [],
   "source": [
    "links = standings_table.find_all('a')"
   ]
  },
  {
   "cell_type": "code",
   "execution_count": 26,
   "metadata": {},
   "outputs": [],
   "source": [
    "links = [l.get(\"href\") for l in links]"
   ]
  },
  {
   "cell_type": "code",
   "execution_count": 27,
   "metadata": {},
   "outputs": [],
   "source": [
    "links = [l for l in links if '/squads/' in l]"
   ]
  },
  {
   "cell_type": "code",
   "execution_count": 28,
   "metadata": {},
   "outputs": [
    {
     "data": {
      "text/plain": [
       "['/en/squads/18bb7c10/Arsenal-Stats',\n",
       " '/en/squads/b8fd03ef/Manchester-City-Stats',\n",
       " '/en/squads/361ca564/Tottenham-Hotspur-Stats',\n",
       " '/en/squads/d07537b9/Brighton-and-Hove-Albion-Stats',\n",
       " '/en/squads/5bfb9659/Leeds-United-Stats',\n",
       " '/en/squads/fd962109/Fulham-Stats',\n",
       " '/en/squads/33c895d4/Southampton-Stats',\n",
       " '/en/squads/cff3d9bb/Chelsea-Stats',\n",
       " '/en/squads/cd051869/Brentford-Stats',\n",
       " '/en/squads/b2b47a98/Newcastle-United-Stats',\n",
       " '/en/squads/19538871/Manchester-United-Stats',\n",
       " '/en/squads/822bd0ba/Liverpool-Stats',\n",
       " '/en/squads/47c64c55/Crystal-Palace-Stats',\n",
       " '/en/squads/e4a775cb/Nottingham-Forest-Stats',\n",
       " '/en/squads/d3fd31cc/Everton-Stats',\n",
       " '/en/squads/8602292d/Aston-Villa-Stats',\n",
       " '/en/squads/7c21e445/West-Ham-United-Stats',\n",
       " '/en/squads/4ba7cbea/Bournemouth-Stats',\n",
       " '/en/squads/8cec06e1/Wolverhampton-Wanderers-Stats',\n",
       " '/en/squads/a2d435b3/Leicester-City-Stats']"
      ]
     },
     "execution_count": 28,
     "metadata": {},
     "output_type": "execute_result"
    }
   ],
   "source": [
    "links"
   ]
  },
  {
   "cell_type": "code",
   "execution_count": 29,
   "metadata": {},
   "outputs": [],
   "source": [
    "teams_urls = [f\"https://fbref.com{l}\" for l in links]"
   ]
  },
  {
   "cell_type": "code",
   "execution_count": 30,
   "metadata": {},
   "outputs": [
    {
     "data": {
      "text/plain": [
       "['https://fbref.com/en/squads/18bb7c10/Arsenal-Stats',\n",
       " 'https://fbref.com/en/squads/b8fd03ef/Manchester-City-Stats',\n",
       " 'https://fbref.com/en/squads/361ca564/Tottenham-Hotspur-Stats',\n",
       " 'https://fbref.com/en/squads/d07537b9/Brighton-and-Hove-Albion-Stats',\n",
       " 'https://fbref.com/en/squads/5bfb9659/Leeds-United-Stats',\n",
       " 'https://fbref.com/en/squads/fd962109/Fulham-Stats',\n",
       " 'https://fbref.com/en/squads/33c895d4/Southampton-Stats',\n",
       " 'https://fbref.com/en/squads/cff3d9bb/Chelsea-Stats',\n",
       " 'https://fbref.com/en/squads/cd051869/Brentford-Stats',\n",
       " 'https://fbref.com/en/squads/b2b47a98/Newcastle-United-Stats',\n",
       " 'https://fbref.com/en/squads/19538871/Manchester-United-Stats',\n",
       " 'https://fbref.com/en/squads/822bd0ba/Liverpool-Stats',\n",
       " 'https://fbref.com/en/squads/47c64c55/Crystal-Palace-Stats',\n",
       " 'https://fbref.com/en/squads/e4a775cb/Nottingham-Forest-Stats',\n",
       " 'https://fbref.com/en/squads/d3fd31cc/Everton-Stats',\n",
       " 'https://fbref.com/en/squads/8602292d/Aston-Villa-Stats',\n",
       " 'https://fbref.com/en/squads/7c21e445/West-Ham-United-Stats',\n",
       " 'https://fbref.com/en/squads/4ba7cbea/Bournemouth-Stats',\n",
       " 'https://fbref.com/en/squads/8cec06e1/Wolverhampton-Wanderers-Stats',\n",
       " 'https://fbref.com/en/squads/a2d435b3/Leicester-City-Stats']"
      ]
     },
     "execution_count": 30,
     "metadata": {},
     "output_type": "execute_result"
    }
   ],
   "source": [
    "teams_urls"
   ]
  },
  {
   "cell_type": "code",
   "execution_count": 31,
   "metadata": {},
   "outputs": [],
   "source": [
    "teams_url = teams_urls[0]"
   ]
  },
  {
   "cell_type": "code",
   "execution_count": 32,
   "metadata": {},
   "outputs": [],
   "source": [
    "data = requests.get(teams_url)"
   ]
  },
  {
   "cell_type": "code",
   "execution_count": 33,
   "metadata": {},
   "outputs": [],
   "source": [
    "import pandas as pd"
   ]
  },
  {
   "cell_type": "code",
   "execution_count": 34,
   "metadata": {},
   "outputs": [
    {
     "data": {
      "text/plain": [
       "[          Date   Time            Comp         Round  Day Venue Result   GF  \\\n",
       " 0   2022-08-05  20:00  Premier League   Matchweek 1  Fri  Away      W  2.0   \n",
       " 1   2022-08-13  15:00  Premier League   Matchweek 2  Sat  Home      W  4.0   \n",
       " 2   2022-08-20  17:30  Premier League   Matchweek 3  Sat  Away      W  3.0   \n",
       " 3   2022-08-27  17:30  Premier League   Matchweek 4  Sat  Home      W  2.0   \n",
       " 4   2022-08-31  19:30  Premier League   Matchweek 5  Wed  Home    NaN  NaN   \n",
       " 5   2022-09-04  16:30  Premier League   Matchweek 6  Sun  Away    NaN  NaN   \n",
       " 6   2022-09-08  18:45       Europa Lg   Group stage  Thu  Away    NaN  NaN   \n",
       " 7   2022-09-11  14:00  Premier League   Matchweek 7  Sun  Home    NaN  NaN   \n",
       " 8   2022-09-15  20:00       Europa Lg   Group stage  Thu  Home    NaN  NaN   \n",
       " 9   2022-09-18  14:00  Premier League   Matchweek 8  Sun  Away    NaN  NaN   \n",
       " 10  2022-10-01  12:30  Premier League   Matchweek 9  Sat  Home    NaN  NaN   \n",
       " 11  2022-10-06  20:00       Europa Lg   Group stage  Thu  Home    NaN  NaN   \n",
       " 12  2022-10-09  16:30  Premier League  Matchweek 10  Sun  Home    NaN  NaN   \n",
       " 13  2022-10-13  18:45       Europa Lg   Group stage  Thu  Away    NaN  NaN   \n",
       " 14  2022-10-16  14:00  Premier League  Matchweek 11  Sun  Away    NaN  NaN   \n",
       " 15  2022-10-19  19:30  Premier League  Matchweek 12  Wed  Home    NaN  NaN   \n",
       " 16  2022-10-23  14:00  Premier League  Matchweek 13  Sun  Away    NaN  NaN   \n",
       " 17  2022-10-27  18:45       Europa Lg   Group stage  Thu  Away    NaN  NaN   \n",
       " 18  2022-10-30  14:00  Premier League  Matchweek 14  Sun  Home    NaN  NaN   \n",
       " 19  2022-11-03  20:00       Europa Lg   Group stage  Thu  Home    NaN  NaN   \n",
       " 20  2022-11-05  15:00  Premier League  Matchweek 15  Sat  Away    NaN  NaN   \n",
       " 21  2022-11-08    NaN         EFL Cup   Third round  Tue  Home    NaN  NaN   \n",
       " 22  2022-11-12  15:00  Premier League  Matchweek 16  Sat  Away    NaN  NaN   \n",
       " 23  2022-12-26  15:00  Premier League  Matchweek 17  Mon  Home    NaN  NaN   \n",
       " 24  2022-12-31  15:00  Premier League  Matchweek 18  Sat  Away    NaN  NaN   \n",
       " 25  2023-01-02  15:00  Premier League  Matchweek 19  Mon  Home    NaN  NaN   \n",
       " 26  2023-01-14  15:00  Premier League  Matchweek 20  Sat  Away    NaN  NaN   \n",
       " 27  2023-01-21  15:00  Premier League  Matchweek 21  Sat  Home    NaN  NaN   \n",
       " 28  2023-02-04  15:00  Premier League  Matchweek 22  Sat  Away    NaN  NaN   \n",
       " 29  2023-02-11  15:00  Premier League  Matchweek 23  Sat  Home    NaN  NaN   \n",
       " 30  2023-02-18  15:00  Premier League  Matchweek 24  Sat  Away    NaN  NaN   \n",
       " 31  2023-02-25  15:00  Premier League  Matchweek 25  Sat  Away    NaN  NaN   \n",
       " 32  2023-03-04  15:00  Premier League  Matchweek 26  Sat  Home    NaN  NaN   \n",
       " 33  2023-03-11  15:00  Premier League  Matchweek 27  Sat  Away    NaN  NaN   \n",
       " 34  2023-03-18  15:00  Premier League  Matchweek 28  Sat  Home    NaN  NaN   \n",
       " 35  2023-04-01  15:00  Premier League  Matchweek 29  Sat  Home    NaN  NaN   \n",
       " 36  2023-04-08  15:00  Premier League  Matchweek 30  Sat  Away    NaN  NaN   \n",
       " 37  2023-04-15  15:00  Premier League  Matchweek 31  Sat  Away    NaN  NaN   \n",
       " 38  2023-04-22  15:00  Premier League  Matchweek 32  Sat  Home    NaN  NaN   \n",
       " 39  2023-04-26  20:00  Premier League  Matchweek 33  Wed  Away    NaN  NaN   \n",
       " 40  2023-04-29  15:00  Premier League  Matchweek 34  Sat  Home    NaN  NaN   \n",
       " 41  2023-05-06  15:00  Premier League  Matchweek 35  Sat  Away    NaN  NaN   \n",
       " 42  2023-05-13  15:00  Premier League  Matchweek 36  Sat  Home    NaN  NaN   \n",
       " 43  2023-05-20  15:00  Premier League  Matchweek 37  Sat  Away    NaN  NaN   \n",
       " 44  2023-05-28  15:00  Premier League  Matchweek 38  Sun  Home    NaN  NaN   \n",
       " \n",
       "      GA          Opponent   xG  xGA  Poss  Attendance          Captain  \\\n",
       " 0   0.0    Crystal Palace  1.0  0.9  43.0     25286.0  Martin Ødegaard   \n",
       " 1   2.0    Leicester City  2.6  0.6  51.0     60033.0  Martin Ødegaard   \n",
       " 2   0.0       Bournemouth  1.8  0.3  59.0     10423.0  Martin Ødegaard   \n",
       " 3   1.0            Fulham  2.4  1.1  71.0     60164.0  Martin Ødegaard   \n",
       " 4   NaN       Aston Villa  NaN  NaN   NaN         NaN              NaN   \n",
       " 5   NaN    Manchester Utd  NaN  NaN   NaN         NaN              NaN   \n",
       " 6   NaN         ch Zürich  NaN  NaN   NaN         NaN              NaN   \n",
       " 7   NaN           Everton  NaN  NaN   NaN         NaN              NaN   \n",
       " 8   NaN  nl PSV Eindhoven  NaN  NaN   NaN         NaN              NaN   \n",
       " 9   NaN         Brentford  NaN  NaN   NaN         NaN              NaN   \n",
       " 10  NaN         Tottenham  NaN  NaN   NaN         NaN              NaN   \n",
       " 11  NaN     no Bodø/Glimt  NaN  NaN   NaN         NaN              NaN   \n",
       " 12  NaN         Liverpool  NaN  NaN   NaN         NaN              NaN   \n",
       " 13  NaN     no Bodø/Glimt  NaN  NaN   NaN         NaN              NaN   \n",
       " 14  NaN      Leeds United  NaN  NaN   NaN         NaN              NaN   \n",
       " 15  NaN   Manchester City  NaN  NaN   NaN         NaN              NaN   \n",
       " 16  NaN       Southampton  NaN  NaN   NaN         NaN              NaN   \n",
       " 17  NaN  nl PSV Eindhoven  NaN  NaN   NaN         NaN              NaN   \n",
       " 18  NaN   Nott'ham Forest  NaN  NaN   NaN         NaN              NaN   \n",
       " 19  NaN         ch Zürich  NaN  NaN   NaN         NaN              NaN   \n",
       " 20  NaN           Chelsea  NaN  NaN   NaN         NaN              NaN   \n",
       " 21  NaN          Brighton  NaN  NaN   NaN         NaN              NaN   \n",
       " 22  NaN            Wolves  NaN  NaN   NaN         NaN              NaN   \n",
       " 23  NaN          West Ham  NaN  NaN   NaN         NaN              NaN   \n",
       " 24  NaN          Brighton  NaN  NaN   NaN         NaN              NaN   \n",
       " 25  NaN     Newcastle Utd  NaN  NaN   NaN         NaN              NaN   \n",
       " 26  NaN         Tottenham  NaN  NaN   NaN         NaN              NaN   \n",
       " 27  NaN    Manchester Utd  NaN  NaN   NaN         NaN              NaN   \n",
       " 28  NaN           Everton  NaN  NaN   NaN         NaN              NaN   \n",
       " 29  NaN         Brentford  NaN  NaN   NaN         NaN              NaN   \n",
       " 30  NaN       Aston Villa  NaN  NaN   NaN         NaN              NaN   \n",
       " 31  NaN    Leicester City  NaN  NaN   NaN         NaN              NaN   \n",
       " 32  NaN       Bournemouth  NaN  NaN   NaN         NaN              NaN   \n",
       " 33  NaN            Fulham  NaN  NaN   NaN         NaN              NaN   \n",
       " 34  NaN    Crystal Palace  NaN  NaN   NaN         NaN              NaN   \n",
       " 35  NaN      Leeds United  NaN  NaN   NaN         NaN              NaN   \n",
       " 36  NaN         Liverpool  NaN  NaN   NaN         NaN              NaN   \n",
       " 37  NaN          West Ham  NaN  NaN   NaN         NaN              NaN   \n",
       " 38  NaN       Southampton  NaN  NaN   NaN         NaN              NaN   \n",
       " 39  NaN   Manchester City  NaN  NaN   NaN         NaN              NaN   \n",
       " 40  NaN           Chelsea  NaN  NaN   NaN         NaN              NaN   \n",
       " 41  NaN     Newcastle Utd  NaN  NaN   NaN         NaN              NaN   \n",
       " 42  NaN          Brighton  NaN  NaN   NaN         NaN              NaN   \n",
       " 43  NaN   Nott'ham Forest  NaN  NaN   NaN         NaN              NaN   \n",
       " 44  NaN            Wolves  NaN  NaN   NaN         NaN              NaN   \n",
       " \n",
       "    Formation         Referee  Match Report  Notes  \n",
       " 0    4-2-3-1  Anthony Taylor  Match Report    NaN  \n",
       " 1    4-2-3-1  Darren England  Match Report    NaN  \n",
       " 2    4-2-3-1    Craig Pawson  Match Report    NaN  \n",
       " 3    4-2-3-1  Jarred Gillett  Match Report    NaN  \n",
       " 4        NaN             NaN  Head-to-Head    NaN  \n",
       " 5        NaN             NaN  Head-to-Head    NaN  \n",
       " 6        NaN             NaN  Head-to-Head    NaN  \n",
       " 7        NaN             NaN  Head-to-Head    NaN  \n",
       " 8        NaN             NaN  Head-to-Head    NaN  \n",
       " 9        NaN             NaN  Head-to-Head    NaN  \n",
       " 10       NaN             NaN  Head-to-Head    NaN  \n",
       " 11       NaN             NaN  Head-to-Head    NaN  \n",
       " 12       NaN             NaN  Head-to-Head    NaN  \n",
       " 13       NaN             NaN  Head-to-Head    NaN  \n",
       " 14       NaN             NaN  Head-to-Head    NaN  \n",
       " 15       NaN             NaN  Head-to-Head    NaN  \n",
       " 16       NaN             NaN  Head-to-Head    NaN  \n",
       " 17       NaN             NaN  Head-to-Head    NaN  \n",
       " 18       NaN             NaN  Head-to-Head    NaN  \n",
       " 19       NaN             NaN  Head-to-Head    NaN  \n",
       " 20       NaN             NaN  Head-to-Head    NaN  \n",
       " 21       NaN             NaN  Head-to-Head    NaN  \n",
       " 22       NaN             NaN  Head-to-Head    NaN  \n",
       " 23       NaN             NaN  Head-to-Head    NaN  \n",
       " 24       NaN             NaN  Head-to-Head    NaN  \n",
       " 25       NaN             NaN  Head-to-Head    NaN  \n",
       " 26       NaN             NaN  Head-to-Head    NaN  \n",
       " 27       NaN             NaN  Head-to-Head    NaN  \n",
       " 28       NaN             NaN  Head-to-Head    NaN  \n",
       " 29       NaN             NaN  Head-to-Head    NaN  \n",
       " 30       NaN             NaN  Head-to-Head    NaN  \n",
       " 31       NaN             NaN  Head-to-Head    NaN  \n",
       " 32       NaN             NaN  Head-to-Head    NaN  \n",
       " 33       NaN             NaN  Head-to-Head    NaN  \n",
       " 34       NaN             NaN  Head-to-Head    NaN  \n",
       " 35       NaN             NaN  Head-to-Head    NaN  \n",
       " 36       NaN             NaN  Head-to-Head    NaN  \n",
       " 37       NaN             NaN  Head-to-Head    NaN  \n",
       " 38       NaN             NaN  Head-to-Head    NaN  \n",
       " 39       NaN             NaN  Head-to-Head    NaN  \n",
       " 40       NaN             NaN  Head-to-Head    NaN  \n",
       " 41       NaN             NaN  Head-to-Head    NaN  \n",
       " 42       NaN             NaN  Head-to-Head    NaN  \n",
       " 43       NaN             NaN  Head-to-Head    NaN  \n",
       " 44       NaN             NaN  Head-to-Head    NaN  ]"
      ]
     },
     "execution_count": 34,
     "metadata": {},
     "output_type": "execute_result"
    }
   ],
   "source": [
    "import pandas as pd\n",
    "matches = pd.read_html(data.text, match=\"Scores & Fixtures\")\n",
    "matches\n"
   ]
  },
  {
   "cell_type": "code",
   "execution_count": 35,
   "metadata": {},
   "outputs": [],
   "source": [
    "matches = pd.read_html(data.text, match=\"Scores & Fixtures\")"
   ]
  },
  {
   "cell_type": "code",
   "execution_count": 36,
   "metadata": {},
   "outputs": [],
   "source": [
    "import lxml "
   ]
  },
  {
   "cell_type": "code",
   "execution_count": 37,
   "metadata": {},
   "outputs": [
    {
     "data": {
      "text/plain": [
       "[          Date   Time            Comp         Round  Day Venue Result   GF  \\\n",
       " 0   2022-08-05  20:00  Premier League   Matchweek 1  Fri  Away      W  2.0   \n",
       " 1   2022-08-13  15:00  Premier League   Matchweek 2  Sat  Home      W  4.0   \n",
       " 2   2022-08-20  17:30  Premier League   Matchweek 3  Sat  Away      W  3.0   \n",
       " 3   2022-08-27  17:30  Premier League   Matchweek 4  Sat  Home      W  2.0   \n",
       " 4   2022-08-31  19:30  Premier League   Matchweek 5  Wed  Home    NaN  NaN   \n",
       " 5   2022-09-04  16:30  Premier League   Matchweek 6  Sun  Away    NaN  NaN   \n",
       " 6   2022-09-08  18:45       Europa Lg   Group stage  Thu  Away    NaN  NaN   \n",
       " 7   2022-09-11  14:00  Premier League   Matchweek 7  Sun  Home    NaN  NaN   \n",
       " 8   2022-09-15  20:00       Europa Lg   Group stage  Thu  Home    NaN  NaN   \n",
       " 9   2022-09-18  14:00  Premier League   Matchweek 8  Sun  Away    NaN  NaN   \n",
       " 10  2022-10-01  12:30  Premier League   Matchweek 9  Sat  Home    NaN  NaN   \n",
       " 11  2022-10-06  20:00       Europa Lg   Group stage  Thu  Home    NaN  NaN   \n",
       " 12  2022-10-09  16:30  Premier League  Matchweek 10  Sun  Home    NaN  NaN   \n",
       " 13  2022-10-13  18:45       Europa Lg   Group stage  Thu  Away    NaN  NaN   \n",
       " 14  2022-10-16  14:00  Premier League  Matchweek 11  Sun  Away    NaN  NaN   \n",
       " 15  2022-10-19  19:30  Premier League  Matchweek 12  Wed  Home    NaN  NaN   \n",
       " 16  2022-10-23  14:00  Premier League  Matchweek 13  Sun  Away    NaN  NaN   \n",
       " 17  2022-10-27  18:45       Europa Lg   Group stage  Thu  Away    NaN  NaN   \n",
       " 18  2022-10-30  14:00  Premier League  Matchweek 14  Sun  Home    NaN  NaN   \n",
       " 19  2022-11-03  20:00       Europa Lg   Group stage  Thu  Home    NaN  NaN   \n",
       " 20  2022-11-05  15:00  Premier League  Matchweek 15  Sat  Away    NaN  NaN   \n",
       " 21  2022-11-08    NaN         EFL Cup   Third round  Tue  Home    NaN  NaN   \n",
       " 22  2022-11-12  15:00  Premier League  Matchweek 16  Sat  Away    NaN  NaN   \n",
       " 23  2022-12-26  15:00  Premier League  Matchweek 17  Mon  Home    NaN  NaN   \n",
       " 24  2022-12-31  15:00  Premier League  Matchweek 18  Sat  Away    NaN  NaN   \n",
       " 25  2023-01-02  15:00  Premier League  Matchweek 19  Mon  Home    NaN  NaN   \n",
       " 26  2023-01-14  15:00  Premier League  Matchweek 20  Sat  Away    NaN  NaN   \n",
       " 27  2023-01-21  15:00  Premier League  Matchweek 21  Sat  Home    NaN  NaN   \n",
       " 28  2023-02-04  15:00  Premier League  Matchweek 22  Sat  Away    NaN  NaN   \n",
       " 29  2023-02-11  15:00  Premier League  Matchweek 23  Sat  Home    NaN  NaN   \n",
       " 30  2023-02-18  15:00  Premier League  Matchweek 24  Sat  Away    NaN  NaN   \n",
       " 31  2023-02-25  15:00  Premier League  Matchweek 25  Sat  Away    NaN  NaN   \n",
       " 32  2023-03-04  15:00  Premier League  Matchweek 26  Sat  Home    NaN  NaN   \n",
       " 33  2023-03-11  15:00  Premier League  Matchweek 27  Sat  Away    NaN  NaN   \n",
       " 34  2023-03-18  15:00  Premier League  Matchweek 28  Sat  Home    NaN  NaN   \n",
       " 35  2023-04-01  15:00  Premier League  Matchweek 29  Sat  Home    NaN  NaN   \n",
       " 36  2023-04-08  15:00  Premier League  Matchweek 30  Sat  Away    NaN  NaN   \n",
       " 37  2023-04-15  15:00  Premier League  Matchweek 31  Sat  Away    NaN  NaN   \n",
       " 38  2023-04-22  15:00  Premier League  Matchweek 32  Sat  Home    NaN  NaN   \n",
       " 39  2023-04-26  20:00  Premier League  Matchweek 33  Wed  Away    NaN  NaN   \n",
       " 40  2023-04-29  15:00  Premier League  Matchweek 34  Sat  Home    NaN  NaN   \n",
       " 41  2023-05-06  15:00  Premier League  Matchweek 35  Sat  Away    NaN  NaN   \n",
       " 42  2023-05-13  15:00  Premier League  Matchweek 36  Sat  Home    NaN  NaN   \n",
       " 43  2023-05-20  15:00  Premier League  Matchweek 37  Sat  Away    NaN  NaN   \n",
       " 44  2023-05-28  15:00  Premier League  Matchweek 38  Sun  Home    NaN  NaN   \n",
       " \n",
       "      GA          Opponent   xG  xGA  Poss  Attendance          Captain  \\\n",
       " 0   0.0    Crystal Palace  1.0  0.9  43.0     25286.0  Martin Ødegaard   \n",
       " 1   2.0    Leicester City  2.6  0.6  51.0     60033.0  Martin Ødegaard   \n",
       " 2   0.0       Bournemouth  1.8  0.3  59.0     10423.0  Martin Ødegaard   \n",
       " 3   1.0            Fulham  2.4  1.1  71.0     60164.0  Martin Ødegaard   \n",
       " 4   NaN       Aston Villa  NaN  NaN   NaN         NaN              NaN   \n",
       " 5   NaN    Manchester Utd  NaN  NaN   NaN         NaN              NaN   \n",
       " 6   NaN         ch Zürich  NaN  NaN   NaN         NaN              NaN   \n",
       " 7   NaN           Everton  NaN  NaN   NaN         NaN              NaN   \n",
       " 8   NaN  nl PSV Eindhoven  NaN  NaN   NaN         NaN              NaN   \n",
       " 9   NaN         Brentford  NaN  NaN   NaN         NaN              NaN   \n",
       " 10  NaN         Tottenham  NaN  NaN   NaN         NaN              NaN   \n",
       " 11  NaN     no Bodø/Glimt  NaN  NaN   NaN         NaN              NaN   \n",
       " 12  NaN         Liverpool  NaN  NaN   NaN         NaN              NaN   \n",
       " 13  NaN     no Bodø/Glimt  NaN  NaN   NaN         NaN              NaN   \n",
       " 14  NaN      Leeds United  NaN  NaN   NaN         NaN              NaN   \n",
       " 15  NaN   Manchester City  NaN  NaN   NaN         NaN              NaN   \n",
       " 16  NaN       Southampton  NaN  NaN   NaN         NaN              NaN   \n",
       " 17  NaN  nl PSV Eindhoven  NaN  NaN   NaN         NaN              NaN   \n",
       " 18  NaN   Nott'ham Forest  NaN  NaN   NaN         NaN              NaN   \n",
       " 19  NaN         ch Zürich  NaN  NaN   NaN         NaN              NaN   \n",
       " 20  NaN           Chelsea  NaN  NaN   NaN         NaN              NaN   \n",
       " 21  NaN          Brighton  NaN  NaN   NaN         NaN              NaN   \n",
       " 22  NaN            Wolves  NaN  NaN   NaN         NaN              NaN   \n",
       " 23  NaN          West Ham  NaN  NaN   NaN         NaN              NaN   \n",
       " 24  NaN          Brighton  NaN  NaN   NaN         NaN              NaN   \n",
       " 25  NaN     Newcastle Utd  NaN  NaN   NaN         NaN              NaN   \n",
       " 26  NaN         Tottenham  NaN  NaN   NaN         NaN              NaN   \n",
       " 27  NaN    Manchester Utd  NaN  NaN   NaN         NaN              NaN   \n",
       " 28  NaN           Everton  NaN  NaN   NaN         NaN              NaN   \n",
       " 29  NaN         Brentford  NaN  NaN   NaN         NaN              NaN   \n",
       " 30  NaN       Aston Villa  NaN  NaN   NaN         NaN              NaN   \n",
       " 31  NaN    Leicester City  NaN  NaN   NaN         NaN              NaN   \n",
       " 32  NaN       Bournemouth  NaN  NaN   NaN         NaN              NaN   \n",
       " 33  NaN            Fulham  NaN  NaN   NaN         NaN              NaN   \n",
       " 34  NaN    Crystal Palace  NaN  NaN   NaN         NaN              NaN   \n",
       " 35  NaN      Leeds United  NaN  NaN   NaN         NaN              NaN   \n",
       " 36  NaN         Liverpool  NaN  NaN   NaN         NaN              NaN   \n",
       " 37  NaN          West Ham  NaN  NaN   NaN         NaN              NaN   \n",
       " 38  NaN       Southampton  NaN  NaN   NaN         NaN              NaN   \n",
       " 39  NaN   Manchester City  NaN  NaN   NaN         NaN              NaN   \n",
       " 40  NaN           Chelsea  NaN  NaN   NaN         NaN              NaN   \n",
       " 41  NaN     Newcastle Utd  NaN  NaN   NaN         NaN              NaN   \n",
       " 42  NaN          Brighton  NaN  NaN   NaN         NaN              NaN   \n",
       " 43  NaN   Nott'ham Forest  NaN  NaN   NaN         NaN              NaN   \n",
       " 44  NaN            Wolves  NaN  NaN   NaN         NaN              NaN   \n",
       " \n",
       "    Formation         Referee  Match Report  Notes  \n",
       " 0    4-2-3-1  Anthony Taylor  Match Report    NaN  \n",
       " 1    4-2-3-1  Darren England  Match Report    NaN  \n",
       " 2    4-2-3-1    Craig Pawson  Match Report    NaN  \n",
       " 3    4-2-3-1  Jarred Gillett  Match Report    NaN  \n",
       " 4        NaN             NaN  Head-to-Head    NaN  \n",
       " 5        NaN             NaN  Head-to-Head    NaN  \n",
       " 6        NaN             NaN  Head-to-Head    NaN  \n",
       " 7        NaN             NaN  Head-to-Head    NaN  \n",
       " 8        NaN             NaN  Head-to-Head    NaN  \n",
       " 9        NaN             NaN  Head-to-Head    NaN  \n",
       " 10       NaN             NaN  Head-to-Head    NaN  \n",
       " 11       NaN             NaN  Head-to-Head    NaN  \n",
       " 12       NaN             NaN  Head-to-Head    NaN  \n",
       " 13       NaN             NaN  Head-to-Head    NaN  \n",
       " 14       NaN             NaN  Head-to-Head    NaN  \n",
       " 15       NaN             NaN  Head-to-Head    NaN  \n",
       " 16       NaN             NaN  Head-to-Head    NaN  \n",
       " 17       NaN             NaN  Head-to-Head    NaN  \n",
       " 18       NaN             NaN  Head-to-Head    NaN  \n",
       " 19       NaN             NaN  Head-to-Head    NaN  \n",
       " 20       NaN             NaN  Head-to-Head    NaN  \n",
       " 21       NaN             NaN  Head-to-Head    NaN  \n",
       " 22       NaN             NaN  Head-to-Head    NaN  \n",
       " 23       NaN             NaN  Head-to-Head    NaN  \n",
       " 24       NaN             NaN  Head-to-Head    NaN  \n",
       " 25       NaN             NaN  Head-to-Head    NaN  \n",
       " 26       NaN             NaN  Head-to-Head    NaN  \n",
       " 27       NaN             NaN  Head-to-Head    NaN  \n",
       " 28       NaN             NaN  Head-to-Head    NaN  \n",
       " 29       NaN             NaN  Head-to-Head    NaN  \n",
       " 30       NaN             NaN  Head-to-Head    NaN  \n",
       " 31       NaN             NaN  Head-to-Head    NaN  \n",
       " 32       NaN             NaN  Head-to-Head    NaN  \n",
       " 33       NaN             NaN  Head-to-Head    NaN  \n",
       " 34       NaN             NaN  Head-to-Head    NaN  \n",
       " 35       NaN             NaN  Head-to-Head    NaN  \n",
       " 36       NaN             NaN  Head-to-Head    NaN  \n",
       " 37       NaN             NaN  Head-to-Head    NaN  \n",
       " 38       NaN             NaN  Head-to-Head    NaN  \n",
       " 39       NaN             NaN  Head-to-Head    NaN  \n",
       " 40       NaN             NaN  Head-to-Head    NaN  \n",
       " 41       NaN             NaN  Head-to-Head    NaN  \n",
       " 42       NaN             NaN  Head-to-Head    NaN  \n",
       " 43       NaN             NaN  Head-to-Head    NaN  \n",
       " 44       NaN             NaN  Head-to-Head    NaN  ]"
      ]
     },
     "execution_count": 37,
     "metadata": {},
     "output_type": "execute_result"
    }
   ],
   "source": [
    "matches"
   ]
  },
  {
   "cell_type": "code",
   "execution_count": 38,
   "metadata": {},
   "outputs": [],
   "source": [
    "soup = BeautifulSoup(data.text)"
   ]
  },
  {
   "cell_type": "code",
   "execution_count": 39,
   "metadata": {},
   "outputs": [],
   "source": [
    "links = soup.find_all('a')"
   ]
  },
  {
   "cell_type": "code",
   "execution_count": 40,
   "metadata": {},
   "outputs": [],
   "source": [
    "links = [l.get(\"href\") for l in links]"
   ]
  },
  {
   "cell_type": "code",
   "execution_count": 41,
   "metadata": {},
   "outputs": [],
   "source": [
    "links  = [l for l in links if l and 'all_comps/shooting/' in l]"
   ]
  },
  {
   "cell_type": "code",
   "execution_count": 42,
   "metadata": {},
   "outputs": [
    {
     "data": {
      "text/plain": [
       "['/en/squads/18bb7c10/2022-2023/matchlogs/all_comps/shooting/Arsenal-Match-Logs-All-Competitions',\n",
       " '/en/squads/18bb7c10/2022-2023/matchlogs/all_comps/shooting/Arsenal-Match-Logs-All-Competitions',\n",
       " '/en/squads/18bb7c10/2022-2023/matchlogs/all_comps/shooting/Arsenal-Match-Logs-All-Competitions',\n",
       " '/en/squads/18bb7c10/2022-2023/matchlogs/all_comps/shooting/Arsenal-Match-Logs-All-Competitions']"
      ]
     },
     "execution_count": 42,
     "metadata": {},
     "output_type": "execute_result"
    }
   ],
   "source": [
    "links"
   ]
  },
  {
   "cell_type": "code",
   "execution_count": 43,
   "metadata": {},
   "outputs": [],
   "source": [
    "data = requests.get(f\"https://fbref.com{links[0]}\")"
   ]
  },
  {
   "cell_type": "code",
   "execution_count": 44,
   "metadata": {},
   "outputs": [],
   "source": [
    "shooting = pd.read_html(data.text, match=\"Shooting\")[0]"
   ]
  },
  {
   "cell_type": "code",
   "execution_count": 45,
   "metadata": {},
   "outputs": [
    {
     "data": {
      "text/html": [
       "<div>\n",
       "<style scoped>\n",
       "    .dataframe tbody tr th:only-of-type {\n",
       "        vertical-align: middle;\n",
       "    }\n",
       "\n",
       "    .dataframe tbody tr th {\n",
       "        vertical-align: top;\n",
       "    }\n",
       "\n",
       "    .dataframe thead tr th {\n",
       "        text-align: left;\n",
       "    }\n",
       "</style>\n",
       "<table border=\"1\" class=\"dataframe\">\n",
       "  <thead>\n",
       "    <tr>\n",
       "      <th></th>\n",
       "      <th colspan=\"10\" halign=\"left\">For Arsenal</th>\n",
       "      <th>...</th>\n",
       "      <th colspan=\"4\" halign=\"left\">Standard</th>\n",
       "      <th colspan=\"5\" halign=\"left\">Expected</th>\n",
       "      <th>Unnamed: 25_level_0</th>\n",
       "    </tr>\n",
       "    <tr>\n",
       "      <th></th>\n",
       "      <th>Date</th>\n",
       "      <th>Time</th>\n",
       "      <th>Comp</th>\n",
       "      <th>Round</th>\n",
       "      <th>Day</th>\n",
       "      <th>Venue</th>\n",
       "      <th>Result</th>\n",
       "      <th>GF</th>\n",
       "      <th>GA</th>\n",
       "      <th>Opponent</th>\n",
       "      <th>...</th>\n",
       "      <th>Dist</th>\n",
       "      <th>FK</th>\n",
       "      <th>PK</th>\n",
       "      <th>PKatt</th>\n",
       "      <th>xG</th>\n",
       "      <th>npxG</th>\n",
       "      <th>npxG/Sh</th>\n",
       "      <th>G-xG</th>\n",
       "      <th>np:G-xG</th>\n",
       "      <th>Match Report</th>\n",
       "    </tr>\n",
       "  </thead>\n",
       "  <tbody>\n",
       "    <tr>\n",
       "      <th>0</th>\n",
       "      <td>2022-08-05</td>\n",
       "      <td>20:00</td>\n",
       "      <td>Premier League</td>\n",
       "      <td>Matchweek 1</td>\n",
       "      <td>Fri</td>\n",
       "      <td>Away</td>\n",
       "      <td>W</td>\n",
       "      <td>2</td>\n",
       "      <td>0</td>\n",
       "      <td>Crystal Palace</td>\n",
       "      <td>...</td>\n",
       "      <td>15.0</td>\n",
       "      <td>1</td>\n",
       "      <td>0</td>\n",
       "      <td>0</td>\n",
       "      <td>1.0</td>\n",
       "      <td>1.0</td>\n",
       "      <td>0.11</td>\n",
       "      <td>0.0</td>\n",
       "      <td>0.0</td>\n",
       "      <td>Match Report</td>\n",
       "    </tr>\n",
       "    <tr>\n",
       "      <th>1</th>\n",
       "      <td>2022-08-13</td>\n",
       "      <td>15:00</td>\n",
       "      <td>Premier League</td>\n",
       "      <td>Matchweek 2</td>\n",
       "      <td>Sat</td>\n",
       "      <td>Home</td>\n",
       "      <td>W</td>\n",
       "      <td>4</td>\n",
       "      <td>2</td>\n",
       "      <td>Leicester City</td>\n",
       "      <td>...</td>\n",
       "      <td>12.6</td>\n",
       "      <td>0</td>\n",
       "      <td>0</td>\n",
       "      <td>0</td>\n",
       "      <td>2.6</td>\n",
       "      <td>2.6</td>\n",
       "      <td>0.14</td>\n",
       "      <td>1.4</td>\n",
       "      <td>1.4</td>\n",
       "      <td>Match Report</td>\n",
       "    </tr>\n",
       "    <tr>\n",
       "      <th>2</th>\n",
       "      <td>2022-08-20</td>\n",
       "      <td>17:30</td>\n",
       "      <td>Premier League</td>\n",
       "      <td>Matchweek 3</td>\n",
       "      <td>Sat</td>\n",
       "      <td>Away</td>\n",
       "      <td>W</td>\n",
       "      <td>3</td>\n",
       "      <td>0</td>\n",
       "      <td>Bournemouth</td>\n",
       "      <td>...</td>\n",
       "      <td>14.6</td>\n",
       "      <td>0</td>\n",
       "      <td>0</td>\n",
       "      <td>0</td>\n",
       "      <td>1.8</td>\n",
       "      <td>1.8</td>\n",
       "      <td>0.14</td>\n",
       "      <td>1.2</td>\n",
       "      <td>1.2</td>\n",
       "      <td>Match Report</td>\n",
       "    </tr>\n",
       "    <tr>\n",
       "      <th>3</th>\n",
       "      <td>2022-08-27</td>\n",
       "      <td>17:30</td>\n",
       "      <td>Premier League</td>\n",
       "      <td>Matchweek 4</td>\n",
       "      <td>Sat</td>\n",
       "      <td>Home</td>\n",
       "      <td>W</td>\n",
       "      <td>2</td>\n",
       "      <td>1</td>\n",
       "      <td>Fulham</td>\n",
       "      <td>...</td>\n",
       "      <td>16.6</td>\n",
       "      <td>1</td>\n",
       "      <td>0</td>\n",
       "      <td>0</td>\n",
       "      <td>2.4</td>\n",
       "      <td>2.4</td>\n",
       "      <td>0.10</td>\n",
       "      <td>-0.4</td>\n",
       "      <td>-0.4</td>\n",
       "      <td>Match Report</td>\n",
       "    </tr>\n",
       "    <tr>\n",
       "      <th>4</th>\n",
       "      <td>NaN</td>\n",
       "      <td>NaN</td>\n",
       "      <td>NaN</td>\n",
       "      <td>NaN</td>\n",
       "      <td>NaN</td>\n",
       "      <td>NaN</td>\n",
       "      <td>4-0-0</td>\n",
       "      <td>11</td>\n",
       "      <td>3</td>\n",
       "      <td>NaN</td>\n",
       "      <td>...</td>\n",
       "      <td>14.8</td>\n",
       "      <td>2</td>\n",
       "      <td>0</td>\n",
       "      <td>0</td>\n",
       "      <td>7.8</td>\n",
       "      <td>7.8</td>\n",
       "      <td>0.12</td>\n",
       "      <td>2.2</td>\n",
       "      <td>2.2</td>\n",
       "      <td>NaN</td>\n",
       "    </tr>\n",
       "  </tbody>\n",
       "</table>\n",
       "<p>5 rows × 26 columns</p>\n",
       "</div>"
      ],
      "text/plain": [
       "  For Arsenal                                                               \\\n",
       "         Date   Time            Comp        Round  Day Venue Result  GF GA   \n",
       "0  2022-08-05  20:00  Premier League  Matchweek 1  Fri  Away      W   2  0   \n",
       "1  2022-08-13  15:00  Premier League  Matchweek 2  Sat  Home      W   4  2   \n",
       "2  2022-08-20  17:30  Premier League  Matchweek 3  Sat  Away      W   3  0   \n",
       "3  2022-08-27  17:30  Premier League  Matchweek 4  Sat  Home      W   2  1   \n",
       "4         NaN    NaN             NaN          NaN  NaN   NaN  4-0-0  11  3   \n",
       "\n",
       "                   ... Standard             Expected                    \\\n",
       "         Opponent  ...     Dist FK PK PKatt       xG npxG npxG/Sh G-xG   \n",
       "0  Crystal Palace  ...     15.0  1  0     0      1.0  1.0    0.11  0.0   \n",
       "1  Leicester City  ...     12.6  0  0     0      2.6  2.6    0.14  1.4   \n",
       "2     Bournemouth  ...     14.6  0  0     0      1.8  1.8    0.14  1.2   \n",
       "3          Fulham  ...     16.6  1  0     0      2.4  2.4    0.10 -0.4   \n",
       "4             NaN  ...     14.8  2  0     0      7.8  7.8    0.12  2.2   \n",
       "\n",
       "          Unnamed: 25_level_0  \n",
       "  np:G-xG        Match Report  \n",
       "0     0.0        Match Report  \n",
       "1     1.4        Match Report  \n",
       "2     1.2        Match Report  \n",
       "3    -0.4        Match Report  \n",
       "4     2.2                 NaN  \n",
       "\n",
       "[5 rows x 26 columns]"
      ]
     },
     "execution_count": 45,
     "metadata": {},
     "output_type": "execute_result"
    }
   ],
   "source": [
    "shooting.head()"
   ]
  },
  {
   "cell_type": "code",
   "execution_count": 46,
   "metadata": {},
   "outputs": [],
   "source": [
    "shooting.columns = shooting.columns.droplevel()"
   ]
  },
  {
   "cell_type": "code",
   "execution_count": 47,
   "metadata": {},
   "outputs": [
    {
     "data": {
      "text/html": [
       "<div>\n",
       "<style scoped>\n",
       "    .dataframe tbody tr th:only-of-type {\n",
       "        vertical-align: middle;\n",
       "    }\n",
       "\n",
       "    .dataframe tbody tr th {\n",
       "        vertical-align: top;\n",
       "    }\n",
       "\n",
       "    .dataframe thead th {\n",
       "        text-align: right;\n",
       "    }\n",
       "</style>\n",
       "<table border=\"1\" class=\"dataframe\">\n",
       "  <thead>\n",
       "    <tr style=\"text-align: right;\">\n",
       "      <th></th>\n",
       "      <th>Date</th>\n",
       "      <th>Time</th>\n",
       "      <th>Comp</th>\n",
       "      <th>Round</th>\n",
       "      <th>Day</th>\n",
       "      <th>Venue</th>\n",
       "      <th>Result</th>\n",
       "      <th>GF</th>\n",
       "      <th>GA</th>\n",
       "      <th>Opponent</th>\n",
       "      <th>...</th>\n",
       "      <th>Dist</th>\n",
       "      <th>FK</th>\n",
       "      <th>PK</th>\n",
       "      <th>PKatt</th>\n",
       "      <th>xG</th>\n",
       "      <th>npxG</th>\n",
       "      <th>npxG/Sh</th>\n",
       "      <th>G-xG</th>\n",
       "      <th>np:G-xG</th>\n",
       "      <th>Match Report</th>\n",
       "    </tr>\n",
       "  </thead>\n",
       "  <tbody>\n",
       "    <tr>\n",
       "      <th>0</th>\n",
       "      <td>2022-08-05</td>\n",
       "      <td>20:00</td>\n",
       "      <td>Premier League</td>\n",
       "      <td>Matchweek 1</td>\n",
       "      <td>Fri</td>\n",
       "      <td>Away</td>\n",
       "      <td>W</td>\n",
       "      <td>2</td>\n",
       "      <td>0</td>\n",
       "      <td>Crystal Palace</td>\n",
       "      <td>...</td>\n",
       "      <td>15.0</td>\n",
       "      <td>1</td>\n",
       "      <td>0</td>\n",
       "      <td>0</td>\n",
       "      <td>1.0</td>\n",
       "      <td>1.0</td>\n",
       "      <td>0.11</td>\n",
       "      <td>0.0</td>\n",
       "      <td>0.0</td>\n",
       "      <td>Match Report</td>\n",
       "    </tr>\n",
       "    <tr>\n",
       "      <th>1</th>\n",
       "      <td>2022-08-13</td>\n",
       "      <td>15:00</td>\n",
       "      <td>Premier League</td>\n",
       "      <td>Matchweek 2</td>\n",
       "      <td>Sat</td>\n",
       "      <td>Home</td>\n",
       "      <td>W</td>\n",
       "      <td>4</td>\n",
       "      <td>2</td>\n",
       "      <td>Leicester City</td>\n",
       "      <td>...</td>\n",
       "      <td>12.6</td>\n",
       "      <td>0</td>\n",
       "      <td>0</td>\n",
       "      <td>0</td>\n",
       "      <td>2.6</td>\n",
       "      <td>2.6</td>\n",
       "      <td>0.14</td>\n",
       "      <td>1.4</td>\n",
       "      <td>1.4</td>\n",
       "      <td>Match Report</td>\n",
       "    </tr>\n",
       "    <tr>\n",
       "      <th>2</th>\n",
       "      <td>2022-08-20</td>\n",
       "      <td>17:30</td>\n",
       "      <td>Premier League</td>\n",
       "      <td>Matchweek 3</td>\n",
       "      <td>Sat</td>\n",
       "      <td>Away</td>\n",
       "      <td>W</td>\n",
       "      <td>3</td>\n",
       "      <td>0</td>\n",
       "      <td>Bournemouth</td>\n",
       "      <td>...</td>\n",
       "      <td>14.6</td>\n",
       "      <td>0</td>\n",
       "      <td>0</td>\n",
       "      <td>0</td>\n",
       "      <td>1.8</td>\n",
       "      <td>1.8</td>\n",
       "      <td>0.14</td>\n",
       "      <td>1.2</td>\n",
       "      <td>1.2</td>\n",
       "      <td>Match Report</td>\n",
       "    </tr>\n",
       "    <tr>\n",
       "      <th>3</th>\n",
       "      <td>2022-08-27</td>\n",
       "      <td>17:30</td>\n",
       "      <td>Premier League</td>\n",
       "      <td>Matchweek 4</td>\n",
       "      <td>Sat</td>\n",
       "      <td>Home</td>\n",
       "      <td>W</td>\n",
       "      <td>2</td>\n",
       "      <td>1</td>\n",
       "      <td>Fulham</td>\n",
       "      <td>...</td>\n",
       "      <td>16.6</td>\n",
       "      <td>1</td>\n",
       "      <td>0</td>\n",
       "      <td>0</td>\n",
       "      <td>2.4</td>\n",
       "      <td>2.4</td>\n",
       "      <td>0.10</td>\n",
       "      <td>-0.4</td>\n",
       "      <td>-0.4</td>\n",
       "      <td>Match Report</td>\n",
       "    </tr>\n",
       "    <tr>\n",
       "      <th>4</th>\n",
       "      <td>NaN</td>\n",
       "      <td>NaN</td>\n",
       "      <td>NaN</td>\n",
       "      <td>NaN</td>\n",
       "      <td>NaN</td>\n",
       "      <td>NaN</td>\n",
       "      <td>4-0-0</td>\n",
       "      <td>11</td>\n",
       "      <td>3</td>\n",
       "      <td>NaN</td>\n",
       "      <td>...</td>\n",
       "      <td>14.8</td>\n",
       "      <td>2</td>\n",
       "      <td>0</td>\n",
       "      <td>0</td>\n",
       "      <td>7.8</td>\n",
       "      <td>7.8</td>\n",
       "      <td>0.12</td>\n",
       "      <td>2.2</td>\n",
       "      <td>2.2</td>\n",
       "      <td>NaN</td>\n",
       "    </tr>\n",
       "  </tbody>\n",
       "</table>\n",
       "<p>5 rows × 26 columns</p>\n",
       "</div>"
      ],
      "text/plain": [
       "         Date   Time            Comp        Round  Day Venue Result  GF  GA  \\\n",
       "0  2022-08-05  20:00  Premier League  Matchweek 1  Fri  Away      W   2   0   \n",
       "1  2022-08-13  15:00  Premier League  Matchweek 2  Sat  Home      W   4   2   \n",
       "2  2022-08-20  17:30  Premier League  Matchweek 3  Sat  Away      W   3   0   \n",
       "3  2022-08-27  17:30  Premier League  Matchweek 4  Sat  Home      W   2   1   \n",
       "4         NaN    NaN             NaN          NaN  NaN   NaN  4-0-0  11   3   \n",
       "\n",
       "         Opponent  ...  Dist  FK  PK  PKatt   xG  npxG  npxG/Sh  G-xG  \\\n",
       "0  Crystal Palace  ...  15.0   1   0      0  1.0   1.0     0.11   0.0   \n",
       "1  Leicester City  ...  12.6   0   0      0  2.6   2.6     0.14   1.4   \n",
       "2     Bournemouth  ...  14.6   0   0      0  1.8   1.8     0.14   1.2   \n",
       "3          Fulham  ...  16.6   1   0      0  2.4   2.4     0.10  -0.4   \n",
       "4             NaN  ...  14.8   2   0      0  7.8   7.8     0.12   2.2   \n",
       "\n",
       "   np:G-xG  Match Report  \n",
       "0      0.0  Match Report  \n",
       "1      1.4  Match Report  \n",
       "2      1.2  Match Report  \n",
       "3     -0.4  Match Report  \n",
       "4      2.2           NaN  \n",
       "\n",
       "[5 rows x 26 columns]"
      ]
     },
     "execution_count": 47,
     "metadata": {},
     "output_type": "execute_result"
    }
   ],
   "source": [
    "shooting.head()"
   ]
  },
  {
   "cell_type": "code",
   "execution_count": 48,
   "metadata": {},
   "outputs": [
    {
     "data": {
      "text/plain": [
       "0    2022-08-05\n",
       "1    2022-08-13\n",
       "2    2022-08-20\n",
       "3    2022-08-27\n",
       "4           NaN\n",
       "Name: Date, dtype: object"
      ]
     },
     "execution_count": 48,
     "metadata": {},
     "output_type": "execute_result"
    }
   ],
   "source": [
    "shooting[\"Date\"]"
   ]
  },
  {
   "cell_type": "code",
   "execution_count": 49,
   "metadata": {},
   "outputs": [],
   "source": [
    "team_data = matches[0].merge(shooting[[\"Date\", \"Sh\", \"SoT\", \"Dist\", \"FK\", \"PK\", \"PKatt\"]], on = \"Date\")"
   ]
  },
  {
   "cell_type": "code",
   "execution_count": 50,
   "metadata": {},
   "outputs": [
    {
     "data": {
      "text/html": [
       "<div>\n",
       "<style scoped>\n",
       "    .dataframe tbody tr th:only-of-type {\n",
       "        vertical-align: middle;\n",
       "    }\n",
       "\n",
       "    .dataframe tbody tr th {\n",
       "        vertical-align: top;\n",
       "    }\n",
       "\n",
       "    .dataframe thead th {\n",
       "        text-align: right;\n",
       "    }\n",
       "</style>\n",
       "<table border=\"1\" class=\"dataframe\">\n",
       "  <thead>\n",
       "    <tr style=\"text-align: right;\">\n",
       "      <th></th>\n",
       "      <th>Date</th>\n",
       "      <th>Time</th>\n",
       "      <th>Comp</th>\n",
       "      <th>Round</th>\n",
       "      <th>Day</th>\n",
       "      <th>Venue</th>\n",
       "      <th>Result</th>\n",
       "      <th>GF</th>\n",
       "      <th>GA</th>\n",
       "      <th>Opponent</th>\n",
       "      <th>...</th>\n",
       "      <th>Formation</th>\n",
       "      <th>Referee</th>\n",
       "      <th>Match Report</th>\n",
       "      <th>Notes</th>\n",
       "      <th>Sh</th>\n",
       "      <th>SoT</th>\n",
       "      <th>Dist</th>\n",
       "      <th>FK</th>\n",
       "      <th>PK</th>\n",
       "      <th>PKatt</th>\n",
       "    </tr>\n",
       "  </thead>\n",
       "  <tbody>\n",
       "    <tr>\n",
       "      <th>0</th>\n",
       "      <td>2022-08-05</td>\n",
       "      <td>20:00</td>\n",
       "      <td>Premier League</td>\n",
       "      <td>Matchweek 1</td>\n",
       "      <td>Fri</td>\n",
       "      <td>Away</td>\n",
       "      <td>W</td>\n",
       "      <td>2.0</td>\n",
       "      <td>0.0</td>\n",
       "      <td>Crystal Palace</td>\n",
       "      <td>...</td>\n",
       "      <td>4-2-3-1</td>\n",
       "      <td>Anthony Taylor</td>\n",
       "      <td>Match Report</td>\n",
       "      <td>NaN</td>\n",
       "      <td>10</td>\n",
       "      <td>2</td>\n",
       "      <td>15.0</td>\n",
       "      <td>1</td>\n",
       "      <td>0</td>\n",
       "      <td>0</td>\n",
       "    </tr>\n",
       "    <tr>\n",
       "      <th>1</th>\n",
       "      <td>2022-08-13</td>\n",
       "      <td>15:00</td>\n",
       "      <td>Premier League</td>\n",
       "      <td>Matchweek 2</td>\n",
       "      <td>Sat</td>\n",
       "      <td>Home</td>\n",
       "      <td>W</td>\n",
       "      <td>4.0</td>\n",
       "      <td>2.0</td>\n",
       "      <td>Leicester City</td>\n",
       "      <td>...</td>\n",
       "      <td>4-2-3-1</td>\n",
       "      <td>Darren England</td>\n",
       "      <td>Match Report</td>\n",
       "      <td>NaN</td>\n",
       "      <td>19</td>\n",
       "      <td>7</td>\n",
       "      <td>12.6</td>\n",
       "      <td>0</td>\n",
       "      <td>0</td>\n",
       "      <td>0</td>\n",
       "    </tr>\n",
       "    <tr>\n",
       "      <th>2</th>\n",
       "      <td>2022-08-20</td>\n",
       "      <td>17:30</td>\n",
       "      <td>Premier League</td>\n",
       "      <td>Matchweek 3</td>\n",
       "      <td>Sat</td>\n",
       "      <td>Away</td>\n",
       "      <td>W</td>\n",
       "      <td>3.0</td>\n",
       "      <td>0.0</td>\n",
       "      <td>Bournemouth</td>\n",
       "      <td>...</td>\n",
       "      <td>4-2-3-1</td>\n",
       "      <td>Craig Pawson</td>\n",
       "      <td>Match Report</td>\n",
       "      <td>NaN</td>\n",
       "      <td>14</td>\n",
       "      <td>6</td>\n",
       "      <td>14.6</td>\n",
       "      <td>0</td>\n",
       "      <td>0</td>\n",
       "      <td>0</td>\n",
       "    </tr>\n",
       "    <tr>\n",
       "      <th>3</th>\n",
       "      <td>2022-08-27</td>\n",
       "      <td>17:30</td>\n",
       "      <td>Premier League</td>\n",
       "      <td>Matchweek 4</td>\n",
       "      <td>Sat</td>\n",
       "      <td>Home</td>\n",
       "      <td>W</td>\n",
       "      <td>2.0</td>\n",
       "      <td>1.0</td>\n",
       "      <td>Fulham</td>\n",
       "      <td>...</td>\n",
       "      <td>4-2-3-1</td>\n",
       "      <td>Jarred Gillett</td>\n",
       "      <td>Match Report</td>\n",
       "      <td>NaN</td>\n",
       "      <td>23</td>\n",
       "      <td>8</td>\n",
       "      <td>16.6</td>\n",
       "      <td>1</td>\n",
       "      <td>0</td>\n",
       "      <td>0</td>\n",
       "    </tr>\n",
       "  </tbody>\n",
       "</table>\n",
       "<p>4 rows × 25 columns</p>\n",
       "</div>"
      ],
      "text/plain": [
       "         Date   Time            Comp        Round  Day Venue Result   GF   GA  \\\n",
       "0  2022-08-05  20:00  Premier League  Matchweek 1  Fri  Away      W  2.0  0.0   \n",
       "1  2022-08-13  15:00  Premier League  Matchweek 2  Sat  Home      W  4.0  2.0   \n",
       "2  2022-08-20  17:30  Premier League  Matchweek 3  Sat  Away      W  3.0  0.0   \n",
       "3  2022-08-27  17:30  Premier League  Matchweek 4  Sat  Home      W  2.0  1.0   \n",
       "\n",
       "         Opponent  ...  Formation         Referee  Match Report  Notes  Sh  \\\n",
       "0  Crystal Palace  ...    4-2-3-1  Anthony Taylor  Match Report    NaN  10   \n",
       "1  Leicester City  ...    4-2-3-1  Darren England  Match Report    NaN  19   \n",
       "2     Bournemouth  ...    4-2-3-1    Craig Pawson  Match Report    NaN  14   \n",
       "3          Fulham  ...    4-2-3-1  Jarred Gillett  Match Report    NaN  23   \n",
       "\n",
       "  SoT  Dist FK  PK  PKatt  \n",
       "0   2  15.0  1   0      0  \n",
       "1   7  12.6  0   0      0  \n",
       "2   6  14.6  0   0      0  \n",
       "3   8  16.6  1   0      0  \n",
       "\n",
       "[4 rows x 25 columns]"
      ]
     },
     "execution_count": 50,
     "metadata": {},
     "output_type": "execute_result"
    }
   ],
   "source": [
    "team_data.head()"
   ]
  },
  {
   "cell_type": "code",
   "execution_count": 51,
   "metadata": {},
   "outputs": [
    {
     "data": {
      "text/plain": [
       "(45, 19)"
      ]
     },
     "execution_count": 51,
     "metadata": {},
     "output_type": "execute_result"
    }
   ],
   "source": [
    "matches[0].shape"
   ]
  },
  {
   "cell_type": "code",
   "execution_count": 52,
   "metadata": {},
   "outputs": [
    {
     "data": {
      "text/plain": [
       "(5, 26)"
      ]
     },
     "execution_count": 52,
     "metadata": {},
     "output_type": "execute_result"
    }
   ],
   "source": [
    "shooting.shape"
   ]
  },
  {
   "cell_type": "code",
   "execution_count": 53,
   "metadata": {},
   "outputs": [],
   "source": [
    "years = list(range(2022,2020, -1))"
   ]
  },
  {
   "cell_type": "code",
   "execution_count": 54,
   "metadata": {},
   "outputs": [
    {
     "data": {
      "text/plain": [
       "[2022, 2021]"
      ]
     },
     "execution_count": 54,
     "metadata": {},
     "output_type": "execute_result"
    }
   ],
   "source": [
    "years"
   ]
  },
  {
   "cell_type": "code",
   "execution_count": 55,
   "metadata": {},
   "outputs": [],
   "source": [
    "all_matches = []"
   ]
  },
  {
   "cell_type": "code",
   "execution_count": 56,
   "metadata": {},
   "outputs": [],
   "source": [
    "standings_url = \"https://fbref.com/en/comps/9/Premier-League-Stats\""
   ]
  },
  {
   "cell_type": "code",
   "execution_count": 57,
   "metadata": {},
   "outputs": [],
   "source": [
    "import time\n",
    "import html5lib\n",
    "for year in years:\n",
    "    data = requests.get(standings_url)\n",
    "    soup = BeautifulSoup(data.text)\n",
    "    standings_table = soup.select('table.stats_table')[0]\n",
    "\n",
    "    links = [l.get(\"href\") for l in standings_table.find_all('a')]\n",
    "    links = [l for l in links if '/squads/' in l]\n",
    "    team_urls  = [f\"https://fbref.com{l}\" for l in links]\n",
    "\n",
    "    previous_season = soup.select(\"a.prev\")[0].get(\"href\")\n",
    "    standings_url = f\"https://fbref.com{previous_season}\"\n",
    "\n",
    "    for team_url in team_urls:\n",
    "        team_name = team_url.split(\"/\")[-1].replace(\"-Stats\", \"\").replace(\"-\", \" \")\n",
    "\n",
    "        data = requests.get(team_url)\n",
    "        matches = pd.read_html(data.text, match=\"Scores & Fixtures\")[0]\n",
    "        soup = BeautifulSoup(data.text)\n",
    "        links = [l.get(\"href\") for l in soup.find_all('a')]\n",
    "        links = [l for l in links if l and 'all_comps/shooting/' in l]\n",
    "        data = requests.get(f\"https://fbref.com{links[0]}\")\n",
    "        shooting = pd.read_html(data.text, match = \"Shooting\")[0]\n",
    "        shooting.columns  = shooting.columns.droplevel()\n",
    "\n",
    "        try :\n",
    "\n",
    "            team_data = matches.merge(shooting[[\"Date\", \"Sh\", \"SoT\", \"Dist\", \"PK\", \"PKatt\"]], on =\"Date\")\n",
    "\n",
    "        except ValueError:\n",
    "            continue\n",
    "            \n",
    "            team_data = team_data[team_data[\"Comp\"] == \"Premier League\"]\n",
    "            team_data[\"Season\"] = year\n",
    "            team_data[\"Team\"] = team_name\n",
    "            all_matches.append(team_data)\n",
    "            time.sleep(1)"
   ]
  },
  {
   "cell_type": "code",
   "execution_count": 58,
   "metadata": {},
   "outputs": [
    {
     "data": {
      "text/plain": [
       "0"
      ]
     },
     "execution_count": 58,
     "metadata": {},
     "output_type": "execute_result"
    }
   ],
   "source": [
    "len(all_matches)"
   ]
  },
  {
   "cell_type": "code",
   "execution_count": 59,
   "metadata": {},
   "outputs": [
    {
     "ename": "ValueError",
     "evalue": "No objects to concatenate",
     "output_type": "error",
     "traceback": [
      "\u001b[1;31m---------------------------------------------------------------------------\u001b[0m",
      "\u001b[1;31mValueError\u001b[0m                                Traceback (most recent call last)",
      "\u001b[1;32mc:\\Users\\hp\\Downloads\\dataQuest.ipynb Cell 42\u001b[0m in \u001b[0;36m<cell line: 1>\u001b[1;34m()\u001b[0m\n\u001b[1;32m----> <a href='vscode-notebook-cell:/c%3A/Users/hp/Downloads/dataQuest.ipynb#X56sZmlsZQ%3D%3D?line=0'>1</a>\u001b[0m match_df \u001b[39m=\u001b[39m pd\u001b[39m.\u001b[39;49mconcat(all_matches)\n\u001b[0;32m      <a href='vscode-notebook-cell:/c%3A/Users/hp/Downloads/dataQuest.ipynb#X56sZmlsZQ%3D%3D?line=1'>2</a>\u001b[0m match_df\u001b[39m.\u001b[39mcolumns \u001b[39m=\u001b[39m [c\u001b[39m.\u001b[39mlower() \u001b[39mfor\u001b[39;00m c \u001b[39min\u001b[39;00m match_df\u001b[39m.\u001b[39mcolumns]\n\u001b[0;32m      <a href='vscode-notebook-cell:/c%3A/Users/hp/Downloads/dataQuest.ipynb#X56sZmlsZQ%3D%3D?line=2'>3</a>\u001b[0m match_df\u001b[39m.\u001b[39mto_csv(\u001b[39m\"\u001b[39m\u001b[39mmatches.csv\u001b[39m\u001b[39m\"\u001b[39m)\n",
      "File \u001b[1;32mc:\\Users\\hp\\Desktop\\python&vsCode\\lib\\site-packages\\pandas\\util\\_decorators.py:311\u001b[0m, in \u001b[0;36mdeprecate_nonkeyword_arguments.<locals>.decorate.<locals>.wrapper\u001b[1;34m(*args, **kwargs)\u001b[0m\n\u001b[0;32m    305\u001b[0m \u001b[39mif\u001b[39;00m \u001b[39mlen\u001b[39m(args) \u001b[39m>\u001b[39m num_allow_args:\n\u001b[0;32m    306\u001b[0m     warnings\u001b[39m.\u001b[39mwarn(\n\u001b[0;32m    307\u001b[0m         msg\u001b[39m.\u001b[39mformat(arguments\u001b[39m=\u001b[39marguments),\n\u001b[0;32m    308\u001b[0m         \u001b[39mFutureWarning\u001b[39;00m,\n\u001b[0;32m    309\u001b[0m         stacklevel\u001b[39m=\u001b[39mstacklevel,\n\u001b[0;32m    310\u001b[0m     )\n\u001b[1;32m--> 311\u001b[0m \u001b[39mreturn\u001b[39;00m func(\u001b[39m*\u001b[39margs, \u001b[39m*\u001b[39m\u001b[39m*\u001b[39mkwargs)\n",
      "File \u001b[1;32mc:\\Users\\hp\\Desktop\\python&vsCode\\lib\\site-packages\\pandas\\core\\reshape\\concat.py:347\u001b[0m, in \u001b[0;36mconcat\u001b[1;34m(objs, axis, join, ignore_index, keys, levels, names, verify_integrity, sort, copy)\u001b[0m\n\u001b[0;32m    143\u001b[0m \u001b[39m@deprecate_nonkeyword_arguments\u001b[39m(version\u001b[39m=\u001b[39m\u001b[39mNone\u001b[39;00m, allowed_args\u001b[39m=\u001b[39m[\u001b[39m\"\u001b[39m\u001b[39mobjs\u001b[39m\u001b[39m\"\u001b[39m])\n\u001b[0;32m    144\u001b[0m \u001b[39mdef\u001b[39;00m \u001b[39mconcat\u001b[39m(\n\u001b[0;32m    145\u001b[0m     objs: Iterable[NDFrame] \u001b[39m|\u001b[39m Mapping[Hashable, NDFrame],\n\u001b[1;32m   (...)\u001b[0m\n\u001b[0;32m    154\u001b[0m     copy: \u001b[39mbool\u001b[39m \u001b[39m=\u001b[39m \u001b[39mTrue\u001b[39;00m,\n\u001b[0;32m    155\u001b[0m ) \u001b[39m-\u001b[39m\u001b[39m>\u001b[39m DataFrame \u001b[39m|\u001b[39m Series:\n\u001b[0;32m    156\u001b[0m     \u001b[39m\"\"\"\u001b[39;00m\n\u001b[0;32m    157\u001b[0m \u001b[39m    Concatenate pandas objects along a particular axis with optional set logic\u001b[39;00m\n\u001b[0;32m    158\u001b[0m \u001b[39m    along the other axes.\u001b[39;00m\n\u001b[1;32m   (...)\u001b[0m\n\u001b[0;32m    345\u001b[0m \u001b[39m    ValueError: Indexes have overlapping values: ['a']\u001b[39;00m\n\u001b[0;32m    346\u001b[0m \u001b[39m    \"\"\"\u001b[39;00m\n\u001b[1;32m--> 347\u001b[0m     op \u001b[39m=\u001b[39m _Concatenator(\n\u001b[0;32m    348\u001b[0m         objs,\n\u001b[0;32m    349\u001b[0m         axis\u001b[39m=\u001b[39;49maxis,\n\u001b[0;32m    350\u001b[0m         ignore_index\u001b[39m=\u001b[39;49mignore_index,\n\u001b[0;32m    351\u001b[0m         join\u001b[39m=\u001b[39;49mjoin,\n\u001b[0;32m    352\u001b[0m         keys\u001b[39m=\u001b[39;49mkeys,\n\u001b[0;32m    353\u001b[0m         levels\u001b[39m=\u001b[39;49mlevels,\n\u001b[0;32m    354\u001b[0m         names\u001b[39m=\u001b[39;49mnames,\n\u001b[0;32m    355\u001b[0m         verify_integrity\u001b[39m=\u001b[39;49mverify_integrity,\n\u001b[0;32m    356\u001b[0m         copy\u001b[39m=\u001b[39;49mcopy,\n\u001b[0;32m    357\u001b[0m         sort\u001b[39m=\u001b[39;49msort,\n\u001b[0;32m    358\u001b[0m     )\n\u001b[0;32m    360\u001b[0m     \u001b[39mreturn\u001b[39;00m op\u001b[39m.\u001b[39mget_result()\n",
      "File \u001b[1;32mc:\\Users\\hp\\Desktop\\python&vsCode\\lib\\site-packages\\pandas\\core\\reshape\\concat.py:404\u001b[0m, in \u001b[0;36m_Concatenator.__init__\u001b[1;34m(self, objs, axis, join, keys, levels, names, ignore_index, verify_integrity, copy, sort)\u001b[0m\n\u001b[0;32m    401\u001b[0m     objs \u001b[39m=\u001b[39m \u001b[39mlist\u001b[39m(objs)\n\u001b[0;32m    403\u001b[0m \u001b[39mif\u001b[39;00m \u001b[39mlen\u001b[39m(objs) \u001b[39m==\u001b[39m \u001b[39m0\u001b[39m:\n\u001b[1;32m--> 404\u001b[0m     \u001b[39mraise\u001b[39;00m \u001b[39mValueError\u001b[39;00m(\u001b[39m\"\u001b[39m\u001b[39mNo objects to concatenate\u001b[39m\u001b[39m\"\u001b[39m)\n\u001b[0;32m    406\u001b[0m \u001b[39mif\u001b[39;00m keys \u001b[39mis\u001b[39;00m \u001b[39mNone\u001b[39;00m:\n\u001b[0;32m    407\u001b[0m     objs \u001b[39m=\u001b[39m \u001b[39mlist\u001b[39m(com\u001b[39m.\u001b[39mnot_none(\u001b[39m*\u001b[39mobjs))\n",
      "\u001b[1;31mValueError\u001b[0m: No objects to concatenate"
     ]
    }
   ],
   "source": [
    "match_df = pd.concat(all_matches)\n",
    "match_df.columns = [c.lower() for c in match_df.columns]\n",
    "match_df.to_csv(\"matches.csv\")"
   ]
  },
  {
   "cell_type": "code",
   "execution_count": null,
   "metadata": {},
   "outputs": [
    {
     "ename": "",
     "evalue": "",
     "output_type": "error",
     "traceback": [
      "\u001b[1;31mFailed to start the Kernel. \n",
      "Unable to start Kernel 'Python 3.10.5' due to connection timeout. \n",
      "View Jupyter <a href='command:jupyter.viewOutput'>log</a> for further details."
     ]
    }
   ],
   "source": [
    "all_matches"
   ]
  },
  {
   "cell_type": "code",
   "execution_count": null,
   "metadata": {},
   "outputs": [
    {
     "name": "stdout",
     "output_type": "stream",
     "text": [
      "[2022, 2021]\n"
     ]
    }
   ],
   "source": [
    "print(years)"
   ]
  },
  {
   "cell_type": "code",
   "execution_count": null,
   "metadata": {},
   "outputs": [
    {
     "name": "stdout",
     "output_type": "stream",
     "text": [
      "[]\n"
     ]
    }
   ],
   "source": [
    "print(all_matches)"
   ]
  }
 ],
 "metadata": {
  "kernelspec": {
   "display_name": "Python 3.10.6 64-bit",
   "language": "python",
   "name": "python3"
  },
  "language_info": {
   "codemirror_mode": {
    "name": "ipython",
    "version": 3
   },
   "file_extension": ".py",
   "mimetype": "text/x-python",
   "name": "python",
   "nbconvert_exporter": "python",
   "pygments_lexer": "ipython3",
   "version": "3.10.6"
  },
  "orig_nbformat": 4,
  "vscode": {
   "interpreter": {
    "hash": "8cce5d6bd0b1d5bb8b2682bc1f66309dd01d5f257082f87ca3c6adb7f33e8718"
   }
  }
 },
 "nbformat": 4,
 "nbformat_minor": 2
}
